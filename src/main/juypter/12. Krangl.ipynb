{
 "cells": [
  {
   "cell_type": "code",
   "execution_count": 71,
   "metadata": {
    "collapsed": true,
    "ExecuteTime": {
     "end_time": "2023-09-20T10:55:27.197514600Z",
     "start_time": "2023-09-20T10:55:24.289971400Z"
    }
   },
   "outputs": [],
   "source": [
    "%use krangl"
   ]
  },
  {
   "cell_type": "code",
   "execution_count": 72,
   "outputs": [
    {
     "data": {
      "text/html": "<html><body><table><tr><th style=\"text-align:left\">first_name</th><th style=\"text-align:left\">last_name</th><th style=\"text-align:left\">age</th><th style=\"text-align:left\">weight</th></tr><tr><td style=\"text-align:left\" title=\"Max\">Max</td><td style=\"text-align:left\" title=\"Doe\">Doe</td><td style=\"text-align:left\" title=\"23\">23</td><td style=\"text-align:left\" title=\"55\">55</td></tr><tr><td style=\"text-align:left\" title=\"Franz\">Franz</td><td style=\"text-align:left\" title=\"Smith\">Smith</td><td style=\"text-align:left\" title=\"23\">23</td><td style=\"text-align:left\" title=\"88\">88</td></tr><tr><td style=\"text-align:left\" title=\"Horst\">Horst</td><td style=\"text-align:left\" title=\"Keanes\">Keanes</td><td style=\"text-align:left\" title=\"12\">12</td><td style=\"text-align:left\" title=\"82\">82</td></tr></table><p>Shape: 3 x 4. \n</p></body></html>"
     },
     "execution_count": 72,
     "metadata": {},
     "output_type": "execute_result"
    }
   ],
   "source": [
    "val df: DataFrame = dataFrameOf(\"first_name\", \"last_name\", \"age\", \"weight\")(\n",
    "    \"Max\", \"Doe\", 23, 55,\n",
    "    \"Franz\", \"Smith\", 23, 88,\n",
    "    \"Horst\", \"Keanes\", 12, 82\n",
    ")\n",
    "df"
   ],
   "metadata": {
    "collapsed": false,
    "ExecuteTime": {
     "end_time": "2023-09-20T10:55:27.239514600Z",
     "start_time": "2023-09-20T10:55:27.195515400Z"
    }
   }
  },
  {
   "cell_type": "code",
   "execution_count": 73,
   "outputs": [
    {
     "data": {
      "text/html": "<html><body><table><tr><th style=\"text-align:left\">first_name</th><th style=\"text-align:left\">last_name</th><th style=\"text-align:left\">age</th><th style=\"text-align:left\">weight</th><th style=\"text-align:left\">salary_category</th></tr><tr><td style=\"text-align:left\" title=\"Max\">Max</td><td style=\"text-align:left\" title=\"Doe\">Doe</td><td style=\"text-align:left\" title=\"23\">23</td><td style=\"text-align:left\" title=\"55\">55</td><td style=\"text-align:left\" title=\"1\">1</td></tr><tr><td style=\"text-align:left\" title=\"Franz\">Franz</td><td style=\"text-align:left\" title=\"Smith\">Smith</td><td style=\"text-align:left\" title=\"23\">23</td><td style=\"text-align:left\" title=\"88\">88</td><td style=\"text-align:left\" title=\"2\">2</td></tr><tr><td style=\"text-align:left\" title=\"Horst\">Horst</td><td style=\"text-align:left\" title=\"Keanes\">Keanes</td><td style=\"text-align:left\" title=\"12\">12</td><td style=\"text-align:left\" title=\"82\">82</td><td style=\"text-align:left\" title=\"3\">3</td></tr></table><p>Shape: 3 x 5. \n</p></body></html>"
     },
     "execution_count": 73,
     "metadata": {},
     "output_type": "execute_result"
    }
   ],
   "source": [
    "df.addColumn(\"salary_category\") { rowNumber }"
   ],
   "metadata": {
    "collapsed": false,
    "ExecuteTime": {
     "end_time": "2023-09-20T10:55:27.293515100Z",
     "start_time": "2023-09-20T10:55:27.236514600Z"
    }
   }
  },
  {
   "cell_type": "code",
   "execution_count": 74,
   "outputs": [
    {
     "data": {
      "text/html": "<html><body><table><tr><th style=\"text-align:left\">first_name</th><th style=\"text-align:left\">last_name</th><th style=\"text-align:left\">age</th><th style=\"text-align:left\">weight</th><th style=\"text-align:left\">age_3y_later</th></tr><tr><td style=\"text-align:left\" title=\"Max\">Max</td><td style=\"text-align:left\" title=\"Doe\">Doe</td><td style=\"text-align:left\" title=\"23\">23</td><td style=\"text-align:left\" title=\"55\">55</td><td style=\"text-align:left\" title=\"26\">26</td></tr><tr><td style=\"text-align:left\" title=\"Franz\">Franz</td><td style=\"text-align:left\" title=\"Smith\">Smith</td><td style=\"text-align:left\" title=\"23\">23</td><td style=\"text-align:left\" title=\"88\">88</td><td style=\"text-align:left\" title=\"26\">26</td></tr><tr><td style=\"text-align:left\" title=\"Horst\">Horst</td><td style=\"text-align:left\" title=\"Keanes\">Keanes</td><td style=\"text-align:left\" title=\"12\">12</td><td style=\"text-align:left\" title=\"82\">82</td><td style=\"text-align:left\" title=\"15\">15</td></tr></table><p>Shape: 3 x 5. \n</p></body></html>"
     },
     "execution_count": 74,
     "metadata": {},
     "output_type": "execute_result"
    }
   ],
   "source": [
    "df.addColumn(\"age_3y_later\") { it[\"age\"] + 3 }"
   ],
   "metadata": {
    "collapsed": false,
    "ExecuteTime": {
     "end_time": "2023-09-20T10:55:27.365518400Z",
     "start_time": "2023-09-20T10:55:27.284514900Z"
    }
   }
  },
  {
   "cell_type": "code",
   "execution_count": 75,
   "outputs": [
    {
     "data": {
      "text/html": "<html><body><table><tr><th style=\"text-align:left\">first_name</th><th style=\"text-align:left\">last_name</th><th style=\"text-align:left\">age</th><th style=\"text-align:left\">weight</th><th style=\"text-align:left\">full_name</th></tr><tr><td style=\"text-align:left\" title=\"Max\">Max</td><td style=\"text-align:left\" title=\"Doe\">Doe</td><td style=\"text-align:left\" title=\"23\">23</td><td style=\"text-align:left\" title=\"55\">55</td><td style=\"text-align:left\" title=\"Max Doe\">Max Doe</td></tr><tr><td style=\"text-align:left\" title=\"Franz\">Franz</td><td style=\"text-align:left\" title=\"Smith\">Smith</td><td style=\"text-align:left\" title=\"23\">23</td><td style=\"text-align:left\" title=\"88\">88</td><td style=\"text-align:left\" title=\"Franz Smith\">Franz Smith</td></tr><tr><td style=\"text-align:left\" title=\"Horst\">Horst</td><td style=\"text-align:left\" title=\"Keanes\">Keanes</td><td style=\"text-align:left\" title=\"12\">12</td><td style=\"text-align:left\" title=\"82\">82</td><td style=\"text-align:left\" title=\"Horst Keanes\">Horst Keanes</td></tr></table><p>Shape: 3 x 5. \n</p></body></html>"
     },
     "execution_count": 75,
     "metadata": {},
     "output_type": "execute_result"
    }
   ],
   "source": [
    "// Note: krangl dataframes are immutable so we need to (re)assign results to preserve changes.\n",
    "val newDF = df.addColumn(\"full_name\") { it[\"first_name\"] + \" \" + it[\"last_name\"] }\n",
    "newDF"
   ],
   "metadata": {
    "collapsed": false,
    "ExecuteTime": {
     "end_time": "2023-09-20T10:55:27.463516800Z",
     "start_time": "2023-09-20T10:55:27.344515200Z"
    }
   }
  },
  {
   "cell_type": "code",
   "execution_count": 76,
   "outputs": [
    {
     "data": {
      "text/html": "<html><body><table><tr><th style=\"text-align:left\">first_name</th><th style=\"text-align:left\">last_name</th><th style=\"text-align:left\">age</th><th style=\"text-align:left\">weight</th><th style=\"text-align:left\">user_id</th></tr><tr><td style=\"text-align:left\" title=\"Max\">Max</td><td style=\"text-align:left\" title=\"Doe\">Doe</td><td style=\"text-align:left\" title=\"23\">23</td><td style=\"text-align:left\" title=\"55\">55</td><td style=\"text-align:left\" title=\"Doe_id1\">Doe_id1</td></tr><tr><td style=\"text-align:left\" title=\"Franz\">Franz</td><td style=\"text-align:left\" title=\"Smith\">Smith</td><td style=\"text-align:left\" title=\"23\">23</td><td style=\"text-align:left\" title=\"88\">88</td><td style=\"text-align:left\" title=\"Smith_id2\">Smith_id2</td></tr><tr><td style=\"text-align:left\" title=\"Horst\">Horst</td><td style=\"text-align:left\" title=\"Keanes\">Keanes</td><td style=\"text-align:left\" title=\"12\">12</td><td style=\"text-align:left\" title=\"82\">82</td><td style=\"text-align:left\" title=\"Keanes_id3\">Keanes_id3</td></tr></table><p>Shape: 3 x 5. \n</p></body></html>"
     },
     "execution_count": 76,
     "metadata": {},
     "output_type": "execute_result"
    }
   ],
   "source": [
    "df.addColumn(\"user_id\") { it[\"last_name\"] + \"_id\" + rowNumber }"
   ],
   "metadata": {
    "collapsed": false,
    "ExecuteTime": {
     "end_time": "2023-09-20T10:55:27.510516300Z",
     "start_time": "2023-09-20T10:55:27.430515900Z"
    }
   }
  },
  {
   "cell_type": "code",
   "execution_count": 77,
   "outputs": [
    {
     "data": {
      "text/html": "<html><body><table><tr><th style=\"text-align:left\">first_name</th><th style=\"text-align:left\">last_name</th><th style=\"text-align:left\">age</th><th style=\"text-align:left\">weight</th><th style=\"text-align:left\">first_name_initial</th></tr><tr><td style=\"text-align:left\" title=\"Max\">Max</td><td style=\"text-align:left\" title=\"Doe\">Doe</td><td style=\"text-align:left\" title=\"23\">23</td><td style=\"text-align:left\" title=\"55\">55</td><td style=\"text-align:left\" title=\"M\">M</td></tr><tr><td style=\"text-align:left\" title=\"Franz\">Franz</td><td style=\"text-align:left\" title=\"Smith\">Smith</td><td style=\"text-align:left\" title=\"23\">23</td><td style=\"text-align:left\" title=\"88\">88</td><td style=\"text-align:left\" title=\"F\">F</td></tr><tr><td style=\"text-align:left\" title=\"Horst\">Horst</td><td style=\"text-align:left\" title=\"Keanes\">Keanes</td><td style=\"text-align:left\" title=\"12\">12</td><td style=\"text-align:left\" title=\"82\">82</td><td style=\"text-align:left\" title=\"H\">H</td></tr></table><p>Shape: 3 x 5. \n</p></body></html>"
     },
     "execution_count": 77,
     "metadata": {},
     "output_type": "execute_result"
    }
   ],
   "source": [
    "df.addColumn(\"first_name_initial\") { it[\"first_name\"].map<String> { it.first() } }"
   ],
   "metadata": {
    "collapsed": false,
    "ExecuteTime": {
     "end_time": "2023-09-20T10:55:27.589515Z",
     "start_time": "2023-09-20T10:55:27.489514800Z"
    }
   }
  },
  {
   "cell_type": "code",
   "execution_count": 78,
   "outputs": [
    {
     "data": {
      "text/html": "<html><body><table><tr><th style=\"text-align:left\">first_name</th><th style=\"text-align:left\">last_name</th><th style=\"text-align:left\">age</th><th style=\"text-align:left\">weight</th><th style=\"text-align:left\">with_anz</th></tr><tr><td style=\"text-align:left\" title=\"Max\">Max</td><td style=\"text-align:left\" title=\"Doe\">Doe</td><td style=\"text-align:left\" title=\"23\">23</td><td style=\"text-align:left\" title=\"55\">55</td><td style=\"text-align:left\" title=\"false\">false</td></tr><tr><td style=\"text-align:left\" title=\"Franz\">Franz</td><td style=\"text-align:left\" title=\"Smith\">Smith</td><td style=\"text-align:left\" title=\"23\">23</td><td style=\"text-align:left\" title=\"88\">88</td><td style=\"text-align:left\" title=\"true\">true</td></tr><tr><td style=\"text-align:left\" title=\"Horst\">Horst</td><td style=\"text-align:left\" title=\"Keanes\">Keanes</td><td style=\"text-align:left\" title=\"12\">12</td><td style=\"text-align:left\" title=\"82\">82</td><td style=\"text-align:left\" title=\"false\">false</td></tr></table><p>Shape: 3 x 5. \n</p></body></html>"
     },
     "execution_count": 78,
     "metadata": {},
     "output_type": "execute_result"
    }
   ],
   "source": [
    "df.addColumn(\"with_anz\") { it[\"first_name\"].toStrings().map { it!!.contains(\"anz\") } }"
   ],
   "metadata": {
    "collapsed": false,
    "ExecuteTime": {
     "end_time": "2023-09-20T10:55:27.666516500Z",
     "start_time": "2023-09-20T10:55:27.575516400Z"
    }
   }
  },
  {
   "cell_type": "code",
   "execution_count": 79,
   "outputs": [
    {
     "data": {
      "text/html": "<html><body><table><tr><th style=\"text-align:left\">first_name</th><th style=\"text-align:left\">last_name</th><th style=\"text-align:left\">age</th><th style=\"text-align:left\">weight</th><th style=\"text-align:left\">age_plus3</th><th style=\"text-align:left\">initials</th></tr><tr><td style=\"text-align:left\" title=\"Max\">Max</td><td style=\"text-align:left\" title=\"Doe\">Doe</td><td style=\"text-align:left\" title=\"23\">23</td><td style=\"text-align:left\" title=\"55\">55</td><td style=\"text-align:left\" title=\"26\">26</td><td style=\"text-align:left\" title=\"M D\">M D</td></tr><tr><td style=\"text-align:left\" title=\"Franz\">Franz</td><td style=\"text-align:left\" title=\"Smith\">Smith</td><td style=\"text-align:left\" title=\"23\">23</td><td style=\"text-align:left\" title=\"88\">88</td><td style=\"text-align:left\" title=\"26\">26</td><td style=\"text-align:left\" title=\"F S\">F S</td></tr><tr><td style=\"text-align:left\" title=\"Horst\">Horst</td><td style=\"text-align:left\" title=\"Keanes\">Keanes</td><td style=\"text-align:left\" title=\"12\">12</td><td style=\"text-align:left\" title=\"82\">82</td><td style=\"text-align:left\" title=\"15\">15</td><td style=\"text-align:left\" title=\"H K\">H K</td></tr></table><p>Shape: 3 x 6. \n</p></body></html>"
     },
     "execution_count": 79,
     "metadata": {},
     "output_type": "execute_result"
    }
   ],
   "source": [
    "df.addColumns(\n",
    "    \"age_plus3\" to { it[\"age\"] + 3 },\n",
    "    \"initials\" to { it[\"first_name\"].map<String> { it.first() } concat it[\"last_name\"].map<String> { it.first() } }\n",
    ")"
   ],
   "metadata": {
    "collapsed": false,
    "ExecuteTime": {
     "end_time": "2023-09-20T10:55:27.777517600Z",
     "start_time": "2023-09-20T10:55:27.659516400Z"
    }
   }
  },
  {
   "cell_type": "code",
   "execution_count": 80,
   "outputs": [
    {
     "data": {
      "text/html": "<html><body><table><tr><th style=\"text-align:left\">first_name</th><th style=\"text-align:left\">last_name</th><th style=\"text-align:left\">age</th><th style=\"text-align:left\">weight</th></tr><tr><td style=\"text-align:left\" title=\"Horst\">Horst</td><td style=\"text-align:left\" title=\"Keanes\">Keanes</td><td style=\"text-align:left\" title=\"12\">12</td><td style=\"text-align:left\" title=\"82\">82</td></tr><tr><td style=\"text-align:left\" title=\"Max\">Max</td><td style=\"text-align:left\" title=\"Doe\">Doe</td><td style=\"text-align:left\" title=\"23\">23</td><td style=\"text-align:left\" title=\"55\">55</td></tr><tr><td style=\"text-align:left\" title=\"Franz\">Franz</td><td style=\"text-align:left\" title=\"Smith\">Smith</td><td style=\"text-align:left\" title=\"23\">23</td><td style=\"text-align:left\" title=\"88\">88</td></tr></table><p>Shape: 3 x 4. \n</p></body></html>"
     },
     "execution_count": 80,
     "metadata": {},
     "output_type": "execute_result"
    }
   ],
   "source": [
    "df.sortedBy(\"age\")"
   ],
   "metadata": {
    "collapsed": false,
    "ExecuteTime": {
     "end_time": "2023-09-20T10:55:27.849268200Z",
     "start_time": "2023-09-20T10:55:27.769515200Z"
    }
   }
  },
  {
   "cell_type": "code",
   "execution_count": 81,
   "outputs": [
    {
     "data": {
      "text/html": "<html><body><table><tr><th style=\"text-align:left\">first_name</th><th style=\"text-align:left\">last_name</th><th style=\"text-align:left\">age</th><th style=\"text-align:left\">weight</th></tr><tr><td style=\"text-align:left\" title=\"Horst\">Horst</td><td style=\"text-align:left\" title=\"Keanes\">Keanes</td><td style=\"text-align:left\" title=\"12\">12</td><td style=\"text-align:left\" title=\"82\">82</td></tr><tr><td style=\"text-align:left\" title=\"Max\">Max</td><td style=\"text-align:left\" title=\"Doe\">Doe</td><td style=\"text-align:left\" title=\"23\">23</td><td style=\"text-align:left\" title=\"55\">55</td></tr><tr><td style=\"text-align:left\" title=\"Franz\">Franz</td><td style=\"text-align:left\" title=\"Smith\">Smith</td><td style=\"text-align:left\" title=\"23\">23</td><td style=\"text-align:left\" title=\"88\">88</td></tr></table><p>Shape: 3 x 4. \n</p></body></html>"
     },
     "execution_count": 81,
     "metadata": {},
     "output_type": "execute_result"
    }
   ],
   "source": [
    "df.sortedBy(\"age\", \"weight\")"
   ],
   "metadata": {
    "collapsed": false,
    "ExecuteTime": {
     "end_time": "2023-09-20T10:55:27.854268800Z",
     "start_time": "2023-09-20T10:55:27.803514800Z"
    }
   }
  },
  {
   "cell_type": "code",
   "execution_count": 82,
   "outputs": [
    {
     "data": {
      "text/html": "<html><body><table><tr><th style=\"text-align:left\">first_name</th><th style=\"text-align:left\">last_name</th><th style=\"text-align:left\">age</th><th style=\"text-align:left\">weight</th></tr><tr><td style=\"text-align:left\" title=\"Franz\">Franz</td><td style=\"text-align:left\" title=\"Smith\">Smith</td><td style=\"text-align:left\" title=\"23\">23</td><td style=\"text-align:left\" title=\"88\">88</td></tr><tr><td style=\"text-align:left\" title=\"Max\">Max</td><td style=\"text-align:left\" title=\"Doe\">Doe</td><td style=\"text-align:left\" title=\"23\">23</td><td style=\"text-align:left\" title=\"55\">55</td></tr><tr><td style=\"text-align:left\" title=\"Horst\">Horst</td><td style=\"text-align:left\" title=\"Keanes\">Keanes</td><td style=\"text-align:left\" title=\"12\">12</td><td style=\"text-align:left\" title=\"82\">82</td></tr></table><p>Shape: 3 x 4. \n</p></body></html>"
     },
     "execution_count": 82,
     "metadata": {},
     "output_type": "execute_result"
    }
   ],
   "source": [
    "df.sortedByDescending(\"age\")"
   ],
   "metadata": {
    "collapsed": false,
    "ExecuteTime": {
     "end_time": "2023-09-20T10:55:27.909271800Z",
     "start_time": "2023-09-20T10:55:27.845269200Z"
    }
   }
  },
  {
   "cell_type": "code",
   "execution_count": 83,
   "outputs": [
    {
     "data": {
      "text/html": "<html><body><table><tr><th style=\"text-align:left\">first_name</th><th style=\"text-align:left\">last_name</th><th style=\"text-align:left\">age</th><th style=\"text-align:left\">weight</th></tr><tr><td style=\"text-align:left\" title=\"Max\">Max</td><td style=\"text-align:left\" title=\"Doe\">Doe</td><td style=\"text-align:left\" title=\"23\">23</td><td style=\"text-align:left\" title=\"55\">55</td></tr><tr><td style=\"text-align:left\" title=\"Horst\">Horst</td><td style=\"text-align:left\" title=\"Keanes\">Keanes</td><td style=\"text-align:left\" title=\"12\">12</td><td style=\"text-align:left\" title=\"82\">82</td></tr><tr><td style=\"text-align:left\" title=\"Franz\">Franz</td><td style=\"text-align:left\" title=\"Smith\">Smith</td><td style=\"text-align:left\" title=\"23\">23</td><td style=\"text-align:left\" title=\"88\">88</td></tr></table><p>Shape: 3 x 4. \n</p></body></html>"
     },
     "execution_count": 83,
     "metadata": {},
     "output_type": "execute_result"
    }
   ],
   "source": [
    "df.sortedBy { it[\"weight\"].toInts() }"
   ],
   "metadata": {
    "collapsed": false,
    "ExecuteTime": {
     "end_time": "2023-09-20T10:55:27.984272Z",
     "start_time": "2023-09-20T10:55:27.903270800Z"
    }
   }
  },
  {
   "cell_type": "code",
   "execution_count": 84,
   "outputs": [
    {
     "data": {
      "text/html": "<html><body><table><tr><th style=\"text-align:left\">age</th><th style=\"text-align:left\">weight</th></tr><tr><td style=\"text-align:left\" title=\"23\">23</td><td style=\"text-align:left\" title=\"55\">55</td></tr><tr><td style=\"text-align:left\" title=\"23\">23</td><td style=\"text-align:left\" title=\"88\">88</td></tr><tr><td style=\"text-align:left\" title=\"12\">12</td><td style=\"text-align:left\" title=\"82\">82</td></tr></table><p>Shape: 3 x 2. \n</p></body></html>"
     },
     "execution_count": 84,
     "metadata": {},
     "output_type": "execute_result"
    }
   ],
   "source": [
    "df.selectIf { it is IntCol }"
   ],
   "metadata": {
    "collapsed": false,
    "ExecuteTime": {
     "end_time": "2023-09-20T10:55:28.031270500Z",
     "start_time": "2023-09-20T10:55:27.951268600Z"
    }
   }
  },
  {
   "cell_type": "code",
   "execution_count": 85,
   "outputs": [
    {
     "data": {
      "text/html": "<html><body><table><tr><th style=\"text-align:left\">last_name</th></tr><tr><td style=\"text-align:left\" title=\"Doe\">Doe</td></tr><tr><td style=\"text-align:left\" title=\"Smith\">Smith</td></tr><tr><td style=\"text-align:left\" title=\"Keanes\">Keanes</td></tr></table><p>Shape: 3 x 1. \n</p></body></html>"
     },
     "execution_count": 85,
     "metadata": {},
     "output_type": "execute_result"
    }
   ],
   "source": [
    "df.select(\"last_name\")"
   ],
   "metadata": {
    "collapsed": false,
    "ExecuteTime": {
     "end_time": "2023-09-20T10:55:28.054270500Z",
     "start_time": "2023-09-20T10:55:28.000269900Z"
    }
   }
  },
  {
   "cell_type": "code",
   "execution_count": 86,
   "outputs": [
    {
     "data": {
      "text/html": "<html><body><table><tr><th style=\"text-align:left\">first_name</th><th style=\"text-align:left\">last_name</th><th style=\"text-align:left\">age</th></tr><tr><td style=\"text-align:left\" title=\"Max\">Max</td><td style=\"text-align:left\" title=\"Doe\">Doe</td><td style=\"text-align:left\" title=\"23\">23</td></tr><tr><td style=\"text-align:left\" title=\"Franz\">Franz</td><td style=\"text-align:left\" title=\"Smith\">Smith</td><td style=\"text-align:left\" title=\"23\">23</td></tr><tr><td style=\"text-align:left\" title=\"Horst\">Horst</td><td style=\"text-align:left\" title=\"Keanes\">Keanes</td><td style=\"text-align:left\" title=\"12\">12</td></tr></table><p>Shape: 3 x 3. \n</p></body></html>"
     },
     "execution_count": 86,
     "metadata": {},
     "output_type": "execute_result"
    }
   ],
   "source": [
    "df.remove(\"weight\")"
   ],
   "metadata": {
    "collapsed": false,
    "ExecuteTime": {
     "end_time": "2023-09-20T10:55:28.085269100Z",
     "start_time": "2023-09-20T10:55:28.037270900Z"
    }
   }
  },
  {
   "cell_type": "code",
   "execution_count": 87,
   "outputs": [
    {
     "data": {
      "text/html": "<html><body><table><tr><th style=\"text-align:left\">first_name</th><th style=\"text-align:left\">last_name</th></tr><tr><td style=\"text-align:left\" title=\"Max\">Max</td><td style=\"text-align:left\" title=\"Doe\">Doe</td></tr><tr><td style=\"text-align:left\" title=\"Franz\">Franz</td><td style=\"text-align:left\" title=\"Smith\">Smith</td></tr><tr><td style=\"text-align:left\" title=\"Horst\">Horst</td><td style=\"text-align:left\" title=\"Keanes\">Keanes</td></tr></table><p>Shape: 3 x 2. \n</p></body></html>"
     },
     "execution_count": 87,
     "metadata": {},
     "output_type": "execute_result"
    }
   ],
   "source": [
    "df.removeIf { it is IntCol }"
   ],
   "metadata": {
    "collapsed": false,
    "ExecuteTime": {
     "end_time": "2023-09-20T10:55:28.124268900Z",
     "start_time": "2023-09-20T10:55:28.074270200Z"
    }
   }
  },
  {
   "cell_type": "code",
   "execution_count": 88,
   "outputs": [
    {
     "data": {
      "text/html": "<html><body><table><tr><th style=\"text-align:left\">first_name</th><th style=\"text-align:left\">last_name</th></tr><tr><td style=\"text-align:left\" title=\"Max\">Max</td><td style=\"text-align:left\" title=\"Doe\">Doe</td></tr><tr><td style=\"text-align:left\" title=\"Franz\">Franz</td><td style=\"text-align:left\" title=\"Smith\">Smith</td></tr><tr><td style=\"text-align:left\" title=\"Horst\">Horst</td><td style=\"text-align:left\" title=\"Keanes\">Keanes</td></tr></table><p>Shape: 3 x 2. \n</p></body></html>"
     },
     "execution_count": 88,
     "metadata": {},
     "output_type": "execute_result"
    }
   ],
   "source": [
    "df.select({ endsWith(\"name\") })"
   ],
   "metadata": {
    "collapsed": false,
    "ExecuteTime": {
     "end_time": "2023-09-20T10:55:28.171269400Z",
     "start_time": "2023-09-20T10:55:28.116270700Z"
    }
   }
  },
  {
   "cell_type": "code",
   "execution_count": 89,
   "outputs": [
    {
     "data": {
      "text/html": "<html><body><table><tr><th style=\"text-align:left\">first_name</th><th style=\"text-align:left\">last_name</th><th style=\"text-align:left\">age</th><th style=\"text-align:left\">weight</th></tr><tr><td style=\"text-align:left\" title=\"Max\">Max</td><td style=\"text-align:left\" title=\"Doe\">Doe</td><td style=\"text-align:left\" title=\"23\">23</td><td style=\"text-align:left\" title=\"55\">55</td></tr><tr><td style=\"text-align:left\" title=\"Franz\">Franz</td><td style=\"text-align:left\" title=\"Smith\">Smith</td><td style=\"text-align:left\" title=\"23\">23</td><td style=\"text-align:left\" title=\"88\">88</td></tr></table><p>Shape: 2 x 4. \n</p></body></html>"
     },
     "execution_count": 89,
     "metadata": {},
     "output_type": "execute_result"
    }
   ],
   "source": [
    "df.filter { it[\"age\"].eq(23) }"
   ],
   "metadata": {
    "collapsed": false,
    "ExecuteTime": {
     "end_time": "2023-09-20T10:55:28.224270200Z",
     "start_time": "2023-09-20T10:55:28.160268700Z"
    }
   }
  },
  {
   "cell_type": "code",
   "execution_count": 90,
   "outputs": [
    {
     "data": {
      "text/html": "<html><body><table><tr><th style=\"text-align:left\">first_name</th><th style=\"text-align:left\">last_name</th><th style=\"text-align:left\">age</th><th style=\"text-align:left\">weight</th></tr><tr><td style=\"text-align:left\" title=\"Franz\">Franz</td><td style=\"text-align:left\" title=\"Smith\">Smith</td><td style=\"text-align:left\" title=\"23\">23</td><td style=\"text-align:left\" title=\"88\">88</td></tr><tr><td style=\"text-align:left\" title=\"Horst\">Horst</td><td style=\"text-align:left\" title=\"Keanes\">Keanes</td><td style=\"text-align:left\" title=\"12\">12</td><td style=\"text-align:left\" title=\"82\">82</td></tr></table><p>Shape: 2 x 4. \n</p></body></html>"
     },
     "execution_count": 90,
     "metadata": {},
     "output_type": "execute_result"
    }
   ],
   "source": [
    "df.filter { it[\"weight\"] gt 60 }"
   ],
   "metadata": {
    "collapsed": false,
    "ExecuteTime": {
     "end_time": "2023-09-20T10:55:28.273269200Z",
     "start_time": "2023-09-20T10:55:28.201271Z"
    }
   }
  },
  {
   "cell_type": "code",
   "execution_count": 91,
   "outputs": [
    {
     "data": {
      "text/html": "<html><body><table><tr><th style=\"text-align:left\">first_name</th><th style=\"text-align:left\">last_name</th><th style=\"text-align:left\">age</th><th style=\"text-align:left\">weight</th></tr><tr><td style=\"text-align:left\" title=\"Max\">Max</td><td style=\"text-align:left\" title=\"Doe\">Doe</td><td style=\"text-align:left\" title=\"23\">23</td><td style=\"text-align:left\" title=\"55\">55</td></tr></table><p>Shape: 1 x 4. \n</p></body></html>"
     },
     "execution_count": 91,
     "metadata": {},
     "output_type": "execute_result"
    }
   ],
   "source": [
    "df.filter { it[\"last_name\"].isMatching<String> { startsWith(\"Do\") } }"
   ],
   "metadata": {
    "collapsed": false,
    "ExecuteTime": {
     "end_time": "2023-09-20T10:55:28.379270Z",
     "start_time": "2023-09-20T10:55:28.251270Z"
    }
   }
  },
  {
   "cell_type": "code",
   "execution_count": 92,
   "outputs": [
    {
     "data": {
      "text/html": "<html><body><table><tr><th style=\"text-align:left\">first_name</th><th style=\"text-align:left\">last_name</th><th style=\"text-align:left\">age</th><th style=\"text-align:left\">weight</th></tr><tr><td style=\"text-align:left\" title=\"Max\">Max</td><td style=\"text-align:left\" title=\"Doe\">Doe</td><td style=\"text-align:left\" title=\"23\">23</td><td style=\"text-align:left\" title=\"55\">55</td></tr><tr><td style=\"text-align:left\" title=\"Franz\">Franz</td><td style=\"text-align:left\" title=\"Smith\">Smith</td><td style=\"text-align:left\" title=\"23\">23</td><td style=\"text-align:left\" title=\"88\">88</td></tr></table><p>Shape: 2 x 4. \n</p></body></html>"
     },
     "execution_count": 92,
     "metadata": {},
     "output_type": "execute_result"
    }
   ],
   "source": [
    "df.filterByRow { it[\"age\"] as Int > 20 }"
   ],
   "metadata": {
    "collapsed": false,
    "ExecuteTime": {
     "end_time": "2023-09-20T10:55:28.435269600Z",
     "start_time": "2023-09-20T10:55:28.373269900Z"
    }
   }
  },
  {
   "cell_type": "code",
   "execution_count": 93,
   "outputs": [
    {
     "data": {
      "text/html": "<html><body><table><tr><th style=\"text-align:left\">age</th><th style=\"text-align:left\">last_name</th><th style=\"text-align:left\">n</th></tr><tr><td style=\"text-align:left\" title=\"23\">23</td><td style=\"text-align:left\" title=\"Doe\">Doe</td><td style=\"text-align:left\" title=\"1\">1</td></tr><tr><td style=\"text-align:left\" title=\"23\">23</td><td style=\"text-align:left\" title=\"Smith\">Smith</td><td style=\"text-align:left\" title=\"1\">1</td></tr><tr><td style=\"text-align:left\" title=\"12\">12</td><td style=\"text-align:left\" title=\"Keanes\">Keanes</td><td style=\"text-align:left\" title=\"1\">1</td></tr></table><p>Shape: 3 x 3. \n</p></body></html>"
     },
     "execution_count": 93,
     "metadata": {},
     "output_type": "execute_result"
    }
   ],
   "source": [
    "df.count(\"age\", \"last_name\")"
   ],
   "metadata": {
    "collapsed": false,
    "ExecuteTime": {
     "end_time": "2023-09-20T10:55:28.503270600Z",
     "start_time": "2023-09-20T10:55:28.417271Z"
    }
   }
  },
  {
   "cell_type": "code",
   "execution_count": 94,
   "outputs": [
    {
     "data": {
      "text/plain": "23"
     },
     "execution_count": 94,
     "metadata": {},
     "output_type": "execute_result"
    }
   ],
   "source": [
    "import java.math.BigDecimal\n",
    "\n",
    "BigDecimal(\n",
    "    df.filter { it[\"age\"] gt 20 }.summarize(\"mean_age\" to { it[\"age\"].mean(true) }).get(\"mean_age\").values().get(0)\n",
    "        .toString()\n",
    ").intValueExact()"
   ],
   "metadata": {
    "collapsed": false,
    "ExecuteTime": {
     "end_time": "2023-09-20T10:55:28.572270800Z",
     "start_time": "2023-09-20T10:55:28.456270200Z"
    }
   }
  },
  {
   "cell_type": "code",
   "execution_count": 95,
   "outputs": [
    {
     "data": {
      "text/html": "<html><body><table><tr><th style=\"text-align:left\">min_age</th><th style=\"text-align:left\">max_age</th></tr><tr><td style=\"text-align:left\" title=\"12.0\">12.0</td><td style=\"text-align:left\" title=\"23.0\">23.0</td></tr></table><p>Shape: 1 x 2. \n</p></body></html>"
     },
     "execution_count": 95,
     "metadata": {},
     "output_type": "execute_result"
    }
   ],
   "source": [
    "df.summarize(\n",
    "    \"min_age\" to { it[\"age\"].min() },\n",
    "    \"max_age\" to { it[\"age\"].max() }\n",
    ")"
   ],
   "metadata": {
    "collapsed": false,
    "ExecuteTime": {
     "end_time": "2023-09-20T10:55:28.646271300Z",
     "start_time": "2023-09-20T10:55:28.538271300Z"
    }
   }
  },
  {
   "cell_type": "code",
   "execution_count": 96,
   "outputs": [
    {
     "data": {
      "text/html": "<html><body><table><tr><th style=\"text-align:left\">min_age</th><th style=\"text-align:left\">max_age</th></tr><tr><td style=\"text-align:left\" title=\"12.0\">12.0</td><td style=\"text-align:left\" title=\"23.0\">23.0</td></tr></table><p>Shape: 1 x 2. \n</p></body></html>"
     },
     "execution_count": 96,
     "metadata": {},
     "output_type": "execute_result"
    }
   ],
   "source": [
    "df.summarize(\n",
    "    \"min_age\" `=` { it[\"age\"].min() },\n",
    "    \"max_age\" `=` { it[\"age\"].max() }\n",
    ")"
   ],
   "metadata": {
    "collapsed": false,
    "ExecuteTime": {
     "end_time": "2023-09-20T10:55:28.694270300Z",
     "start_time": "2023-09-20T10:55:28.606270Z"
    }
   }
  },
  {
   "cell_type": "code",
   "execution_count": 97,
   "outputs": [
    {
     "data": {
      "text/html": "<html><body><table><tr><th style=\"text-align:left\">age</th><th style=\"text-align:left\">mean_weight</th><th style=\"text-align:left\">num_persons</th></tr><tr><td style=\"text-align:left\" title=\"23\">23</td><td style=\"text-align:left\" title=\"71.5\">71.5</td><td style=\"text-align:left\" title=\"2\">2</td></tr><tr><td style=\"text-align:left\" title=\"12\">12</td><td style=\"text-align:left\" title=\"82.0\">82.0</td><td style=\"text-align:left\" title=\"1\">1</td></tr></table><p>Shape: 2 x 3. \n</p></body></html>"
     },
     "execution_count": 97,
     "metadata": {},
     "output_type": "execute_result"
    }
   ],
   "source": [
    "val groupedDf: DataFrame = df.groupBy(\"age\") // or provide multiple grouping attributes with varargs\n",
    "val sumDF = groupedDf.summarize(\n",
    "    \"mean_weight\" to { it[\"weight\"].mean(removeNA = true) },\n",
    "    \"num_persons\" to { nrow }\n",
    ")\n",
    "sumDF"
   ],
   "metadata": {
    "collapsed": false,
    "ExecuteTime": {
     "end_time": "2023-09-20T10:55:28.752215500Z",
     "start_time": "2023-09-20T10:55:28.661270800Z"
    }
   }
  },
  {
   "cell_type": "code",
   "execution_count": 98,
   "outputs": [
    {
     "data": {
      "text/html": "<html><body><table><tr><th style=\"text-align:left\">first_name</th><th style=\"text-align:left\">last_name</th><th style=\"text-align:left\">age</th><th style=\"text-align:left\">weight</th></tr><tr><td style=\"text-align:left\" title=\"Max\">Max</td><td style=\"text-align:left\" title=\"Doe\">Doe</td><td style=\"text-align:left\" title=\"23\">23</td><td style=\"text-align:left\" title=\"55\">55</td></tr><tr><td style=\"text-align:left\" title=\"Franz\">Franz</td><td style=\"text-align:left\" title=\"Smith\">Smith</td><td style=\"text-align:left\" title=\"23\">23</td><td style=\"text-align:left\" title=\"88\">88</td></tr><tr><td style=\"text-align:left\" title=\"Horst\">Horst</td><td style=\"text-align:left\" title=\"Keanes\">Keanes</td><td style=\"text-align:left\" title=\"12\">12</td><td style=\"text-align:left\" title=\"82\">82</td></tr></table><p>Shape: 3 x 4. \n</p></body></html>"
     },
     "execution_count": 98,
     "metadata": {},
     "output_type": "execute_result"
    }
   ],
   "source": [
    "groupedDf.ungroup()"
   ],
   "metadata": {
    "collapsed": false,
    "ExecuteTime": {
     "end_time": "2023-09-20T10:55:28.792216300Z",
     "start_time": "2023-09-20T10:55:28.744216800Z"
    }
   }
  },
  {
   "cell_type": "code",
   "execution_count": 99,
   "outputs": [
    {
     "data": {
      "text/plain": "[Person(age=23, mean_weight=71.5, num_persons=2), Person(age=12, mean_weight=82.0, num_persons=1)]"
     },
     "metadata": {},
     "output_type": "display_data"
    },
    {
     "data": {
      "text/plain": "class java.util.ArrayList"
     },
     "metadata": {},
     "output_type": "display_data"
    }
   ],
   "source": [
    "data class Person(val age: Int, val mean_weight: Double, val num_persons: Int)\n",
    "val records = sumDF.rowsAs<Person>()\n",
    "DISPLAY(records)\n",
    "DISPLAY(records::class.java)"
   ],
   "metadata": {
    "collapsed": false,
    "ExecuteTime": {
     "end_time": "2023-09-20T10:55:28.935229100Z",
     "start_time": "2023-09-20T10:55:28.788215400Z"
    }
   }
  },
  {
   "cell_type": "code",
   "execution_count": 100,
   "outputs": [
    {
     "data": {
      "text/plain": "71.5"
     },
     "execution_count": 100,
     "metadata": {},
     "output_type": "execute_result"
    }
   ],
   "source": [
    "records.first().mean_weight"
   ],
   "metadata": {
    "collapsed": false,
    "ExecuteTime": {
     "end_time": "2023-09-20T10:55:29.017229200Z",
     "start_time": "2023-09-20T10:55:28.932229800Z"
    }
   }
  },
  {
   "cell_type": "code",
   "execution_count": 101,
   "outputs": [
    {
     "data": {
      "text/html": "<html><body><table><tr><th style=\"text-align:left\">age</th><th style=\"text-align:left\">mean_weight</th><th style=\"text-align:left\">num_persons</th></tr><tr><td style=\"text-align:left\" title=\"23\">23</td><td style=\"text-align:left\" title=\"71.5\">71.5</td><td style=\"text-align:left\" title=\"2\">2</td></tr><tr><td style=\"text-align:left\" title=\"12\">12</td><td style=\"text-align:left\" title=\"82.0\">82.0</td><td style=\"text-align:left\" title=\"1\">1</td></tr></table><p>Shape: 2 x 3. \n</p></body></html>"
     },
     "execution_count": 101,
     "metadata": {},
     "output_type": "execute_result"
    }
   ],
   "source": [
    "records.asDataFrame()"
   ],
   "metadata": {
    "collapsed": false,
    "ExecuteTime": {
     "end_time": "2023-09-20T10:55:29.084229Z",
     "start_time": "2023-09-20T10:55:28.973228700Z"
    }
   }
  },
  {
   "cell_type": "code",
   "execution_count": 102,
   "outputs": [
    {
     "data": {
      "text/html": "<html><body><table><tr><th style=\"text-align:left\">age</th><th style=\"text-align:left\">weight</th></tr><tr><td style=\"text-align:left\" title=\"23\">23</td><td style=\"text-align:left\" title=\"71.5\">71.5</td></tr><tr><td style=\"text-align:left\" title=\"12\">12</td><td style=\"text-align:left\" title=\"82.0\">82.0</td></tr></table><p>Shape: 2 x 2. \n</p></body></html>"
     },
     "execution_count": 102,
     "metadata": {},
     "output_type": "execute_result"
    }
   ],
   "source": [
    "records.deparseRecords { mapOf(\"age\" to it.age, \"weight\" to it.mean_weight) }"
   ],
   "metadata": {
    "collapsed": false,
    "ExecuteTime": {
     "end_time": "2023-09-20T10:55:29.103229700Z",
     "start_time": "2023-09-20T10:55:29.019229300Z"
    }
   }
  },
  {
   "cell_type": "code",
   "execution_count": 103,
   "outputs": [],
   "source": [],
   "metadata": {
    "collapsed": false,
    "ExecuteTime": {
     "end_time": "2023-09-20T10:55:29.106228200Z",
     "start_time": "2023-09-20T10:55:29.079230300Z"
    }
   }
  }
 ],
 "metadata": {
  "kernelspec": {
   "display_name": "Kotlin",
   "language": "kotlin",
   "name": "kotlin"
  },
  "language_info": {
   "name": "kotlin",
   "version": "1.8.20",
   "mimetype": "text/x-kotlin",
   "file_extension": ".kt",
   "pygments_lexer": "kotlin",
   "codemirror_mode": "text/x-kotlin",
   "nbconvert_exporter": ""
  },
  "ktnbPluginMetadata": {
   "isAddProjectLibrariesToClasspath": false
  }
 },
 "nbformat": 4,
 "nbformat_minor": 0
}
