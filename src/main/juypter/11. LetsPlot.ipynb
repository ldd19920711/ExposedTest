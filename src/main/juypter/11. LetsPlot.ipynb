{
 "cells": [
  {
   "cell_type": "code",
   "execution_count": 6,
   "metadata": {
    "collapsed": true,
    "ExecuteTime": {
     "end_time": "2023-09-20T09:58:42.041350900Z",
     "start_time": "2023-09-20T09:58:37.588762600Z"
    }
   },
   "outputs": [
    {
     "data": {
      "text/html": "   <div id=\"b27mZP\"></div>\n   <script type=\"text/javascript\" data-lets-plot-script=\"library\">\n       if(!window.letsPlotCallQueue) {\n           window.letsPlotCallQueue = [];\n       }; \n       window.letsPlotCall = function(f) {\n           window.letsPlotCallQueue.push(f);\n       };\n       (function() {\n           var script = document.createElement(\"script\");\n           script.type = \"text/javascript\";\n           script.src = \"https://cdn.jsdelivr.net/gh/JetBrains/lets-plot@v3.2.0/js-package/distr/lets-plot.min.js\";\n           script.onload = function() {\n               window.letsPlotCall = function(f) {f();};\n               window.letsPlotCallQueue.forEach(function(f) {f();});\n               window.letsPlotCallQueue = [];\n               \n               \n           };\n           script.onerror = function(event) {\n               window.letsPlotCall = function(f) {};\n               window.letsPlotCallQueue = [];\n               var div = document.createElement(\"div\");\n               div.style.color = 'darkred';\n               div.textContent = 'Error loading Lets-Plot JS';\n               document.getElementById(\"b27mZP\").appendChild(div);\n           };\n           var e = document.getElementById(\"b27mZP\");\n           e.appendChild(script);\n       })();\n   </script>"
     },
     "metadata": {},
     "output_type": "display_data"
    }
   ],
   "source": [
    "%use lets-plot"
   ]
  },
  {
   "cell_type": "code",
   "execution_count": 14,
   "outputs": [],
   "source": [
    "val data = mapOf<String, Any>(\n",
    "            \"cat1\" to listOf(\"a\", \"a\", \"b\", \"a\", \"a\", \"a\", \"a\", \"b\", \"b\", \"b\", \"b\", \"b\"),\n",
    "            \"cat2\" to listOf(\"c\", \"c\", \"d\", \"d\", \"d\", \"c\", \"c\", \"d\", \"c\", \"c\", \"d\", \"e\"))\n",
    "val p = letsPlot(data)"
   ],
   "metadata": {
    "collapsed": false,
    "ExecuteTime": {
     "end_time": "2023-09-20T10:03:31.003983400Z",
     "start_time": "2023-09-20T10:03:30.932473500Z"
    }
   }
  },
  {
   "cell_type": "code",
   "execution_count": 15,
   "outputs": [
    {
     "data": {
      "text/html": "   <div id=\"6XjJhC\"></div>\n   <script type=\"text/javascript\" data-lets-plot-script=\"plot\">\n       (function() {\n           var plotSpec={\n\"mapping\":{\n},\n\"data\":{\n},\n\"kind\":\"plot\",\n\"scales\":[],\n\"layers\":[{\n\"mapping\":{\n\"x\":\"cat1\",\n\"fill\":\"cat2\"\n},\n\"stat\":\"count\",\n\"position\":\"stack\",\n\"geom\":\"bar\",\n\"data\":{\n\"cat2\":[\"c\",\"c\",\"d\",\"d\",\"e\"],\n\"cat1\":[\"a\",\"b\",\"b\",\"a\",\"b\"],\n\"..count..\":[4.0,2.0,3.0,2.0,1.0]\n}\n}]\n};\n           var plotContainer = document.getElementById(\"6XjJhC\");\n           window.letsPlotCall(function() {{\n               LetsPlot.buildPlotFromProcessedSpecs(plotSpec, -1, -1, plotContainer);\n           }});\n       })();    \n   </script>"
     },
     "execution_count": 15,
     "metadata": {},
     "output_type": "execute_result"
    }
   ],
   "source": [
    "val layer = geomBar {\n",
    "    x = \"cat1\"\n",
    "    fill = \"cat2\"\n",
    "}\n",
    "\n",
    "(p + layer)"
   ],
   "metadata": {
    "collapsed": false,
    "ExecuteTime": {
     "end_time": "2023-09-20T10:03:31.501458200Z",
     "start_time": "2023-09-20T10:03:31.401193Z"
    }
   }
  },
  {
   "cell_type": "code",
   "execution_count": 9,
   "outputs": [],
   "source": [],
   "metadata": {
    "collapsed": false,
    "ExecuteTime": {
     "end_time": "2023-09-20T09:58:42.275485900Z",
     "start_time": "2023-09-20T09:58:42.268968200Z"
    }
   }
  }
 ],
 "metadata": {
  "kernelspec": {
   "display_name": "Kotlin",
   "language": "kotlin",
   "name": "kotlin"
  },
  "language_info": {
   "name": "kotlin",
   "version": "1.8.20",
   "mimetype": "text/x-kotlin",
   "file_extension": ".kt",
   "pygments_lexer": "kotlin",
   "codemirror_mode": "text/x-kotlin",
   "nbconvert_exporter": ""
  },
  "ktnbPluginMetadata": {
   "isAddProjectLibrariesToClasspath": false
  }
 },
 "nbformat": 4,
 "nbformat_minor": 0
}
