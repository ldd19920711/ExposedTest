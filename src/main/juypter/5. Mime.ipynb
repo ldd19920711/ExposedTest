{
 "cells": [
  {
   "cell_type": "markdown",
   "source": [
    "使用 mimeResult 函数显示任何输出.参考(https://docs.jupyter.org/en/latest/reference/mimetype.html)"
   ],
   "metadata": {
    "collapsed": false
   }
  },
  {
   "cell_type": "code",
   "execution_count": 13,
   "outputs": [
    {
     "data": {
      "text/plain": "JetBrains logo",
      "text/html": "<b>JetBrains</b> logo"
     },
     "execution_count": 13,
     "metadata": {},
     "output_type": "execute_result"
    }
   ],
   "source": [
    "mimeResult(\n",
    "    MimeTypes.PLAIN_TEXT to \"JetBrains logo\",\n",
    "    MimeTypes.HTML to \"<b>JetBrains</b> logo\"\n",
    ")"
   ],
   "metadata": {
    "collapsed": false,
    "ExecuteTime": {
     "end_time": "2023-09-20T07:40:16.818431400Z",
     "start_time": "2023-09-20T07:40:16.759070700Z"
    }
   }
  }
 ],
 "metadata": {
  "kernelspec": {
   "display_name": "Kotlin",
   "language": "kotlin",
   "name": "kotlin"
  },
  "language_info": {
   "name": "kotlin",
   "version": "1.8.20",
   "mimetype": "text/x-kotlin",
   "file_extension": ".kt",
   "pygments_lexer": "kotlin",
   "codemirror_mode": "text/x-kotlin",
   "nbconvert_exporter": ""
  },
  "ktnbPluginMetadata": {
   "isAddProjectLibrariesToClasspath": false
  }
 },
 "nbformat": 4,
 "nbformat_minor": 0
}
