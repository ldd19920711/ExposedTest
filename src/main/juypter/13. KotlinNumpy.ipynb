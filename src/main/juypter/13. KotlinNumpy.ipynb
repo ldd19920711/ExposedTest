{
 "cells": [
  {
   "cell_type": "markdown",
   "source": [
    " numpy 已经启用,本篇使用 multik 作为示例\n",
    " (https://github.com/Kotlin/kotlin-numpy)\n",
    " (https://github.com/Kotlin/multik#creating-arrays)"
   ],
   "metadata": {
    "collapsed": false
   }
  },
  {
   "cell_type": "code",
   "execution_count": 40,
   "outputs": [],
   "source": [
    "%use multik"
   ],
   "metadata": {
    "collapsed": false,
    "ExecuteTime": {
     "end_time": "2023-09-21T03:30:20.631572200Z",
     "start_time": "2023-09-21T03:30:20.442556Z"
    }
   }
  },
  {
   "cell_type": "markdown",
   "source": [
    "构建一个一维数组"
   ],
   "metadata": {
    "collapsed": false
   }
  },
  {
   "cell_type": "code",
   "execution_count": 41,
   "outputs": [
    {
     "data": {
      "text/plain": "[1, 2, 3]"
     },
     "execution_count": 41,
     "metadata": {},
     "output_type": "execute_result"
    }
   ],
   "source": [
    "val a = mk.ndarray(mk[1, 2, 3])\n",
    "a"
   ],
   "metadata": {
    "collapsed": false,
    "ExecuteTime": {
     "end_time": "2023-09-21T03:30:20.737562400Z",
     "start_time": "2023-09-21T03:30:20.620559200Z"
    }
   }
  },
  {
   "cell_type": "markdown",
   "source": [
    "构建一个二维数组"
   ],
   "metadata": {
    "collapsed": false
   }
  },
  {
   "cell_type": "code",
   "execution_count": 42,
   "outputs": [
    {
     "data": {
      "text/plain": "[[1.5, 2.1, 3.0],\n[4.0, 5.0, 6.0]]"
     },
     "execution_count": 42,
     "metadata": {},
     "output_type": "execute_result"
    }
   ],
   "source": [
    "val b = mk.ndarray(mk[mk[1.5, 2.1, 3.0], mk[4.0, 5.0, 6.0]])\n",
    "b"
   ],
   "metadata": {
    "collapsed": false,
    "ExecuteTime": {
     "end_time": "2023-09-21T03:30:20.799557900Z",
     "start_time": "2023-09-21T03:30:20.691557600Z"
    }
   }
  },
  {
   "cell_type": "markdown",
   "source": [
    "构建一个三维数组"
   ],
   "metadata": {
    "collapsed": false
   }
  },
  {
   "cell_type": "code",
   "execution_count": 43,
   "outputs": [
    {
     "data": {
      "text/plain": "[[[1.5, 2.0, 3.0],\n[4.0, 5.0, 6.0]],\n\n[[3.0, 2.0, 1.0],\n[4.0, 5.0, 6.0]]]"
     },
     "execution_count": 43,
     "metadata": {},
     "output_type": "execute_result"
    }
   ],
   "source": [
    "val c = mk.ndarray(mk[mk[mk[1.5f, 2f, 3f], mk[4f, 5f, 6f]], mk[mk[3f, 2f, 1f], mk[4f, 5f, 6f]]])\n",
    "c"
   ],
   "metadata": {
    "collapsed": false,
    "ExecuteTime": {
     "end_time": "2023-09-21T03:30:20.871311400Z",
     "start_time": "2023-09-21T03:30:20.777559700Z"
    }
   }
  },
  {
   "cell_type": "code",
   "execution_count": 44,
   "outputs": [
    {
     "data": {
      "text/plain": "[[0.0, 0.0, 0.0, 0.0],\n[0.0, 0.0, 0.0, 0.0],\n[0.0, 0.0, 0.0, 0.0]]"
     },
     "execution_count": 44,
     "metadata": {},
     "output_type": "execute_result"
    }
   ],
   "source": [
    "mk.zeros<Double>(3, 4)"
   ],
   "metadata": {
    "collapsed": false,
    "ExecuteTime": {
     "end_time": "2023-09-21T03:30:20.965271400Z",
     "start_time": "2023-09-21T03:30:20.869311800Z"
    }
   }
  },
  {
   "cell_type": "code",
   "execution_count": 45,
   "outputs": [
    {
     "data": {
      "text/plain": "[[30.0, 2.0, 13.0],\n[12.0, 4.0, 5.0]]"
     },
     "execution_count": 45,
     "metadata": {},
     "output_type": "execute_result"
    }
   ],
   "source": [
    "// create an array from a collection\n",
    "mk.ndarray<Float, D2>(setOf(30f, 2f, 13f, 12f, 4f, 5f), intArrayOf(2, 3))"
   ],
   "metadata": {
    "collapsed": false,
    "ExecuteTime": {
     "end_time": "2023-09-21T03:30:20.975271400Z",
     "start_time": "2023-09-21T03:30:20.919312400Z"
    }
   }
  },
  {
   "cell_type": "code",
   "execution_count": 46,
   "outputs": [
    {
     "data": {
      "text/plain": "[[1.0, 1.3, 3.0],\n[4.0, 9.5, 5.0]]"
     },
     "execution_count": 46,
     "metadata": {},
     "output_type": "execute_result"
    }
   ],
   "source": [
    "// create an array of shape(2, 3) from a primitive array\n",
    "val d = mk.ndarray(doubleArrayOf(1.0, 1.3, 3.0, 4.0, 9.5, 5.0), 2, 3)\n",
    "d"
   ],
   "metadata": {
    "collapsed": false,
    "ExecuteTime": {
     "end_time": "2023-09-21T03:30:21.077268700Z",
     "start_time": "2023-09-21T03:30:20.970270300Z"
    }
   }
  },
  {
   "cell_type": "code",
   "execution_count": 50,
   "outputs": [
    {
     "data": {
      "text/plain": "[[[0, 1, 4],\n[9, 16, 25]],\n\n[[36, 49, 64],\n[81, 100, 121]]]"
     },
     "execution_count": 50,
     "metadata": {},
     "output_type": "execute_result"
    }
   ],
   "source": [
    "mk.d3array(2, 2, 3) { it * it }"
   ],
   "metadata": {
    "collapsed": false,
    "ExecuteTime": {
     "end_time": "2023-09-21T03:31:05.037565800Z",
     "start_time": "2023-09-21T03:31:04.986943300Z"
    }
   }
  },
  {
   "cell_type": "code",
   "execution_count": 51,
   "outputs": [
    {
     "data": {
      "text/plain": "[[0.0+(0.0)i, 0.0+(1.0)i, 0.0+(2.0)i],\n[1.0+(0.0)i, 1.0+(1.0)i, 1.0+(2.0)i],\n[2.0+(0.0)i, 2.0+(1.0)i, 2.0+(2.0)i]]"
     },
     "execution_count": 51,
     "metadata": {},
     "output_type": "execute_result"
    }
   ],
   "source": [
    "mk.d2arrayIndices(3, 3) { i, j -> ComplexFloat(i, j) }"
   ],
   "metadata": {
    "collapsed": false,
    "ExecuteTime": {
     "end_time": "2023-09-21T03:33:38.727653800Z",
     "start_time": "2023-09-21T03:33:38.633652300Z"
    }
   }
  },
  {
   "cell_type": "code",
   "execution_count": 54,
   "outputs": [
    {
     "data": {
      "text/plain": "[10, 12, 14, 16, 18, 20, 22, 24]"
     },
     "execution_count": 54,
     "metadata": {},
     "output_type": "execute_result"
    }
   ],
   "source": [
    "mk.arange<Long>(10, 25, 2)"
   ],
   "metadata": {
    "collapsed": false,
    "ExecuteTime": {
     "end_time": "2023-09-21T03:34:47.363424700Z",
     "start_time": "2023-09-21T03:34:47.287425100Z"
    }
   }
  },
  {
   "cell_type": "code",
   "execution_count": 58,
   "outputs": [
    {
     "data": {
      "text/plain": "[0.0, 0.6666666666666666, 1.3333333333333333, 2.0]"
     },
     "execution_count": 58,
     "metadata": {},
     "output_type": "execute_result"
    }
   ],
   "source": [
    "mk.linspace<Double>(0, 2, 4)"
   ],
   "metadata": {
    "collapsed": false,
    "ExecuteTime": {
     "end_time": "2023-09-21T03:35:37.189041100Z",
     "start_time": "2023-09-21T03:35:37.104041900Z"
    }
   }
  },
  {
   "cell_type": "code",
   "execution_count": 60,
   "outputs": [
    {
     "data": {
      "text/plain": "[[1.0, 0.0, 0.0],\n[0.0, 1.0, 0.0],\n[0.0, 0.0, 1.0]]"
     },
     "execution_count": 60,
     "metadata": {},
     "output_type": "execute_result"
    }
   ],
   "source": [
    "val e = mk.identity<Double>(3) // create an identity array of shape (3, 3)\n",
    "e"
   ],
   "metadata": {
    "collapsed": false,
    "ExecuteTime": {
     "end_time": "2023-09-21T03:39:29.539740300Z",
     "start_time": "2023-09-21T03:39:29.479740200Z"
    }
   }
  },
  {
   "cell_type": "code",
   "execution_count": 64,
   "outputs": [
    {
     "name": "stderr",
     "output_type": "stream",
     "text": [
      "Line_53.jupyter.kts (1:11 - 12) None of the following functions can be called with the arguments supplied: \n",
      "public operator fun <T, D : Dimension> MultiArray<TypeVariable(T), TypeVariable(D)>.minus(other: TypeVariable(T)): NDArray<TypeVariable(T), TypeVariable(D)> defined in org.jetbrains.kotlinx.multik.ndarray.operations\n",
      "public operator fun <T, D : Dimension> MultiArray<TypeVariable(T), TypeVariable(D)>.minus(other: MultiArray<TypeVariable(T), TypeVariable(D)>): NDArray<TypeVariable(T), TypeVariable(D)> defined in org.jetbrains.kotlinx.multik.ndarray.operations"
     ]
    }
   ],
   "source": [
    "val f = b - d\n",
    "f"
   ],
   "metadata": {
    "collapsed": false,
    "ExecuteTime": {
     "end_time": "2023-09-21T03:42:49.568214Z",
     "start_time": "2023-09-21T03:42:49.510214100Z"
    }
   }
  },
  {
   "cell_type": "code",
   "execution_count": 65,
   "outputs": [
    {
     "data": {
      "text/plain": "[[1.5, 2.1, 3.0],\n[4.0, 5.0, 6.0]]"
     },
     "execution_count": 65,
     "metadata": {},
     "output_type": "execute_result"
    }
   ],
   "source": [
    "d + f"
   ],
   "metadata": {
    "collapsed": false,
    "ExecuteTime": {
     "end_time": "2023-09-21T03:44:47.875007Z",
     "start_time": "2023-09-21T03:44:47.825002400Z"
    }
   }
  },
  {
   "cell_type": "code",
   "execution_count": 66,
   "outputs": [
    {
     "data": {
      "text/plain": "[[1.5, 1.6153846153846154, 1.0],\n[1.0, 0.5263157894736842, 1.2]]"
     },
     "execution_count": 66,
     "metadata": {},
     "output_type": "execute_result"
    }
   ],
   "source": [
    "b / d"
   ],
   "metadata": {
    "collapsed": false,
    "ExecuteTime": {
     "end_time": "2023-09-21T03:44:52.070348400Z",
     "start_time": "2023-09-21T03:44:52.016348100Z"
    }
   }
  },
  {
   "cell_type": "code",
   "execution_count": 67,
   "outputs": [
    {
     "data": {
      "text/plain": "[[0.5, 1.04, 0.0],\n[0.0, -42.75, 5.0]]"
     },
     "execution_count": 67,
     "metadata": {},
     "output_type": "execute_result"
    }
   ],
   "source": [
    "f * d"
   ],
   "metadata": {
    "collapsed": false,
    "ExecuteTime": {
     "end_time": "2023-09-21T03:44:55.503433400Z",
     "start_time": "2023-09-21T03:44:55.468440800Z"
    }
   }
  },
  {
   "cell_type": "markdown",
   "source": [
    "See documentation for other methods of mathematics[https://kotlin.github.io/multik/multik-core/org.jetbrains.kotlinx.multik.api.math/index.html], linear algebra[https://kotlin.github.io/multik/multik-core/org.jetbrains.kotlinx.multik.api.linalg/index.html], statistics[https://kotlin.github.io/multik/multik-core/org.jetbrains.kotlinx.multik.api.stat/index.html]."
   ],
   "metadata": {
    "collapsed": false
   }
  },
  {
   "cell_type": "code",
   "execution_count": 68,
   "outputs": [
    {
     "data": {
      "text/plain": "[0.8414709848078965, 0.9092974268256817, 0.1411200080598672]"
     },
     "execution_count": 68,
     "metadata": {},
     "output_type": "execute_result"
    }
   ],
   "source": [
    "a.sin()"
   ],
   "metadata": {
    "collapsed": false,
    "ExecuteTime": {
     "end_time": "2023-09-21T03:47:48.962315500Z",
     "start_time": "2023-09-21T03:47:47.363555300Z"
    }
   }
  },
  {
   "cell_type": "code",
   "execution_count": 71,
   "outputs": [
    {
     "data": {
      "text/plain": "42.5"
     },
     "execution_count": 71,
     "metadata": {},
     "output_type": "execute_result"
    }
   ],
   "source": [
    "mk.math.sum(c)"
   ],
   "metadata": {
    "collapsed": false,
    "ExecuteTime": {
     "end_time": "2023-09-21T03:53:21.427136500Z",
     "start_time": "2023-09-21T03:53:21.386138Z"
    }
   }
  },
  {
   "cell_type": "code",
   "execution_count": null,
   "outputs": [],
   "source": [],
   "metadata": {
    "collapsed": false
   }
  }
 ],
 "metadata": {
  "kernelspec": {
   "display_name": "Kotlin",
   "language": "kotlin",
   "name": "kotlin"
  },
  "language_info": {
   "name": "kotlin",
   "version": "1.8.20",
   "mimetype": "text/x-kotlin",
   "file_extension": ".kt",
   "pygments_lexer": "kotlin",
   "codemirror_mode": "text/x-kotlin",
   "nbconvert_exporter": ""
  },
  "ktnbPluginMetadata": {
   "isAddProjectLibrariesToClasspath": false
  }
 },
 "nbformat": 4,
 "nbformat_minor": 0
}
