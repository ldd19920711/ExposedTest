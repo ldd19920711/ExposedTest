{
 "cells": [
  {
   "cell_type": "markdown",
   "source": [
    "USE 关键字使用"
   ],
   "metadata": {
    "collapsed": false
   }
  },
  {
   "cell_type": "code",
   "execution_count": 3,
   "outputs": [],
   "source": [
    "USE {\n",
    "    repositories {\n",
    "        // 任意添加仓库地址. Maven central 已经包含\n",
    "        // maven(\"<url>\")\n",
    "    }\n",
    "    dependencies {\n",
    "        // 添加 kandy-lets-plot 依赖\n",
    "        implementation(\"org.jetbrains.kotlinx:kandy-lets-plot:0.4.3\")\n",
    "    }\n",
    "\n",
    "    // 有时库集成会被传递加载，而您不希望它们这样做\n",
    "    discardIntegrationTypeNameIf {\n",
    "        it.startsWith(\"org.jetbrains.kotlinx.dataframe.\")\n",
    "    }\n",
    "}"
   ],
   "metadata": {
    "collapsed": false,
    "ExecuteTime": {
     "end_time": "2023-09-20T07:58:06.650513400Z",
     "start_time": "2023-09-20T07:58:04.236044900Z"
    }
   }
  },
  {
   "cell_type": "markdown",
   "source": [
    "尝试进行一个实验:将扔 50 个骰子并计算它们的点数总和。\n",
    "然后，我们将重复此实验一定次数，并使用我们刚刚加载的 kandy 库绘制分布图。"
   ],
   "metadata": {
    "collapsed": false
   }
  },
  {
   "cell_type": "code",
   "execution_count": 9,
   "outputs": [
    {
     "data": {
      "text/html": "            <script type=\"text/javascript\" data-lets-plot-script=\"library\" src=\"https://cdn.jsdelivr.net/gh/JetBrains/lets-plot@v3.1.0/js-package/distr/lets-plot.min.js\"></script>    \n               <div id=\"P3S5Z5\"></div>\n   <script type=\"text/javascript\" data-lets-plot-script=\"plot\">\n       var plotSpec={\n\"mapping\":{\n},\n\"data\":{\n\"x\":[124.0,125.0,128.0,129.0,130.0,131.0,132.0,133.0,134.0,135.0,136.0,137.0,138.0,139.0,140.0,141.0,142.0,143.0,144.0,145.0,146.0,147.0,148.0,149.0,150.0,151.0,152.0,153.0,154.0,155.0,156.0,157.0,158.0,159.0,160.0,161.0,162.0,163.0,164.0,165.0,166.0,167.0,168.0,169.0,170.0,171.0,172.0,173.0,174.0,175.0,176.0,177.0,178.0,179.0,180.0,181.0,182.0,183.0,184.0,185.0,186.0,187.0,188.0,189.0,190.0,191.0,192.0,193.0,194.0,195.0,196.0,197.0,198.0,199.0,200.0,201.0,202.0,203.0,204.0,205.0,206.0,207.0,208.0,209.0,210.0,211.0,212.0,213.0,214.0,215.0,216.0,217.0,218.0,219.0,220.0,221.0,223.0,226.0,228.0],\n\"y\":[2.0,1.0,2.0,3.0,4.0,2.0,5.0,3.0,5.0,11.0,13.0,18.0,29.0,34.0,58.0,65.0,73.0,80.0,102.0,132.0,182.0,217.0,271.0,308.0,343.0,426.0,517.0,560.0,760.0,821.0,1017.0,1089.0,1134.0,1429.0,1517.0,1689.0,1842.0,2014.0,2196.0,2303.0,2537.0,2634.0,2835.0,2904.0,3101.0,3143.0,3213.0,3283.0,3315.0,3299.0,3348.0,3276.0,3223.0,3057.0,2972.0,2905.0,2691.0,2743.0,2617.0,2326.0,2142.0,2001.0,1871.0,1643.0,1580.0,1366.0,1190.0,1093.0,973.0,917.0,760.0,615.0,541.0,465.0,417.0,318.0,282.0,233.0,189.0,166.0,106.0,89.0,73.0,63.0,45.0,42.0,32.0,22.0,16.0,20.0,10.0,6.0,5.0,5.0,1.0,1.0,1.0,1.0,1.0]\n},\n\"kind\":\"plot\",\n\"scales\":[{\n\"aesthetic\":\"x\",\n\"limits\":[null,null]\n},{\n\"aesthetic\":\"y\",\n\"limits\":[null,null]\n}],\n\"layers\":[{\n\"mapping\":{\n\"x\":\"x\",\n\"y\":\"y\"\n},\n\"stat\":\"identity\",\n\"sampling\":\"none\",\n\"position\":\"dodge\",\n\"geom\":\"bar\",\n\"data\":{\n}\n}]\n};\n       var plotContainer = document.getElementById(\"P3S5Z5\");\n       LetsPlot.buildPlotFromProcessedSpecs(plotSpec, -1, -1, plotContainer);\n   </script>            \n        <svg id=c03f3f23-d0ff-4ab7-b588-5b96b63cea96 xmlns=\"http://www.w3.org/2000/svg\" xmlns:xlink=\"http://www.w3.org/1999/xlink\" class=\"plt-container\" width=\"600.0\" height=\"400.0\">\n  <style type=\"text/css\">\n  .plt-container {\n   font-family: Lucida Grande, sans-serif;\n   user-select: none;\n   -webkit-user-select: none;\n   -moz-user-select: none;\n   -ms-user-select: none;\n}\ntext {\n   text-rendering: optimizeLegibility;\n}\n#pY56bJZ .plot-title {\n   fill: #474747;\n   font-family: Lucida Grande, sans-serif;\n   font-size: 16.0px;\n   font-weight: normal;\n   font-style: normal;   \n}\n#pY56bJZ .plot-subtitle {\n   fill: #474747;\n   font-family: Lucida Grande, sans-serif;\n   font-size: 15.0px;\n   font-weight: normal;\n   font-style: normal;   \n}\n#pY56bJZ .plot-caption {\n   fill: #474747;\n   font-family: Lucida Grande, sans-serif;\n   font-size: 13.0px;\n   font-weight: normal;\n   font-style: normal;   \n}\n#pY56bJZ .legend-title {\n   fill: #474747;\n   font-family: Lucida Grande, sans-serif;\n   font-size: 15.0px;\n   font-weight: normal;\n   font-style: normal;   \n}\n#pY56bJZ .legend-item {\n   fill: #474747;\n   font-family: Lucida Grande, sans-serif;\n   font-size: 13.0px;\n   font-weight: normal;\n   font-style: normal;   \n}\n#pY56bJZ .axis-title-x {\n   fill: #474747;\n   font-family: Lucida Grande, sans-serif;\n   font-size: 15.0px;\n   font-weight: normal;\n   font-style: normal;   \n}\n#pY56bJZ .axis-text-x {\n   fill: #474747;\n   font-family: Lucida Grande, sans-serif;\n   font-size: 13.0px;\n   font-weight: normal;\n   font-style: normal;   \n}\n#dKab0c5 .axis-tooltip-text-x {\n   fill: #ffffff;\n   font-family: Lucida Grande, sans-serif;\n   font-size: 13.0px;\n   font-weight: normal;\n   font-style: normal;   \n}\n#pY56bJZ .axis-title-y {\n   fill: #474747;\n   font-family: Lucida Grande, sans-serif;\n   font-size: 15.0px;\n   font-weight: normal;\n   font-style: normal;   \n}\n#pY56bJZ .axis-text-y {\n   fill: #474747;\n   font-family: Lucida Grande, sans-serif;\n   font-size: 13.0px;\n   font-weight: normal;\n   font-style: normal;   \n}\n#dKab0c5 .axis-tooltip-text-y {\n   fill: #ffffff;\n   font-family: Lucida Grande, sans-serif;\n   font-size: 13.0px;\n   font-weight: normal;\n   font-style: normal;   \n}\n#pY56bJZ .facet-strip-text-x {\n   fill: #474747;\n   font-family: Lucida Grande, sans-serif;\n   font-size: 13.0px;\n   font-weight: normal;\n   font-style: normal;   \n}\n#pY56bJZ .facet-strip-text-y {\n   fill: #474747;\n   font-family: Lucida Grande, sans-serif;\n   font-size: 13.0px;\n   font-weight: normal;\n   font-style: normal;   \n}\n#dKab0c5 .tooltip-text {\n   fill: #474747;\n   font-family: Lucida Grande, sans-serif;\n   font-size: 13.0px;\n   font-weight: normal;\n   font-style: normal;   \n}\n#dKab0c5 .tooltip-title {\n   fill: #474747;\n   font-family: Lucida Grande, sans-serif;\n   font-size: 13.0px;\n   font-weight: bold;\n   font-style: normal;   \n}\n#dKab0c5 .tooltip-label {\n   fill: #474747;\n   font-family: Lucida Grande, sans-serif;\n   font-size: 13.0px;\n   font-weight: bold;\n   font-style: normal;   \n}\n\n  </style>\n  <g id=\"pY56bJZ\">\n    <rect x=\"0.0\" y=\"0.0\" height=\"400.0\" width=\"600.0\" stroke=\"rgb(71,71,71)\" stroke-opacity=\"1.0\" stroke-width=\"0.0\" fill=\"rgb(255,255,255)\" fill-opacity=\"1.0\">\n    </rect>\n    <g transform=\"translate(23.0 10.0 ) \">\n      <g transform=\"translate(42.99591213121782 344.0 ) \">\n        <line x1=\"7.697260845286337\" y1=\"-0.0\" x2=\"7.697260845286337\" y2=\"-344.0\" stroke=\"rgb(233,233,233)\" stroke-opacity=\"1.0\" stroke-width=\"1.0\">\n        </line>\n        <line x1=\"98.52039766282371\" y1=\"-0.0\" x2=\"98.52039766282371\" y2=\"-344.0\" stroke=\"rgb(233,233,233)\" stroke-opacity=\"1.0\" stroke-width=\"1.0\">\n        </line>\n        <line x1=\"189.3435344803612\" y1=\"-0.0\" x2=\"189.3435344803612\" y2=\"-344.0\" stroke=\"rgb(233,233,233)\" stroke-opacity=\"1.0\" stroke-width=\"1.0\">\n        </line>\n        <line x1=\"280.1666712978986\" y1=\"-0.0\" x2=\"280.1666712978986\" y2=\"-344.0\" stroke=\"rgb(233,233,233)\" stroke-opacity=\"1.0\" stroke-width=\"1.0\">\n        </line>\n        <line x1=\"370.98980811543595\" y1=\"-0.0\" x2=\"370.98980811543595\" y2=\"-344.0\" stroke=\"rgb(233,233,233)\" stroke-opacity=\"1.0\" stroke-width=\"1.0\">\n        </line>\n        <line x1=\"461.81294493297344\" y1=\"-0.0\" x2=\"461.81294493297344\" y2=\"-344.0\" stroke=\"rgb(233,233,233)\" stroke-opacity=\"1.0\" stroke-width=\"1.0\">\n        </line>\n        <g transform=\"translate(7.697260845286337 0.0 ) \">\n          <line stroke-width=\"1.0\" stroke=\"rgb(71,71,71)\" stroke-opacity=\"1.0\" x2=\"0.0\" y2=\"4.0\">\n          </line>\n          <g transform=\"translate(0.0 7.0 ) \">\n            <text class=\"axis-text-x\" text-anchor=\"middle\" dy=\"0.7em\">\n            120\n            </text>\n          </g>\n        </g>\n        <g transform=\"translate(98.52039766282371 0.0 ) \">\n          <line stroke-width=\"1.0\" stroke=\"rgb(71,71,71)\" stroke-opacity=\"1.0\" x2=\"0.0\" y2=\"4.0\">\n          </line>\n          <g transform=\"translate(0.0 7.0 ) \">\n            <text class=\"axis-text-x\" text-anchor=\"middle\" dy=\"0.7em\">\n            140\n            </text>\n          </g>\n        </g>\n        <g transform=\"translate(189.3435344803612 0.0 ) \">\n          <line stroke-width=\"1.0\" stroke=\"rgb(71,71,71)\" stroke-opacity=\"1.0\" x2=\"0.0\" y2=\"4.0\">\n          </line>\n          <g transform=\"translate(0.0 7.0 ) \">\n            <text class=\"axis-text-x\" text-anchor=\"middle\" dy=\"0.7em\">\n            160\n            </text>\n          </g>\n        </g>\n        <g transform=\"translate(280.1666712978986 0.0 ) \">\n          <line stroke-width=\"1.0\" stroke=\"rgb(71,71,71)\" stroke-opacity=\"1.0\" x2=\"0.0\" y2=\"4.0\">\n          </line>\n          <g transform=\"translate(0.0 7.0 ) \">\n            <text class=\"axis-text-x\" text-anchor=\"middle\" dy=\"0.7em\">\n            180\n            </text>\n          </g>\n        </g>\n        <g transform=\"translate(370.98980811543595 0.0 ) \">\n          <line stroke-width=\"1.0\" stroke=\"rgb(71,71,71)\" stroke-opacity=\"1.0\" x2=\"0.0\" y2=\"4.0\">\n          </line>\n          <g transform=\"translate(0.0 7.0 ) \">\n            <text class=\"axis-text-x\" text-anchor=\"middle\" dy=\"0.7em\">\n            200\n            </text>\n          </g>\n        </g>\n        <g transform=\"translate(461.81294493297344 0.0 ) \">\n          <line stroke-width=\"1.0\" stroke=\"rgb(71,71,71)\" stroke-opacity=\"1.0\" x2=\"0.0\" y2=\"4.0\">\n          </line>\n          <g transform=\"translate(0.0 7.0 ) \">\n            <text class=\"axis-text-x\" text-anchor=\"middle\" dy=\"0.7em\">\n            220\n            </text>\n          </g>\n        </g>\n        <line x1=\"0.0\" y1=\"0.0\" x2=\"524.0040878687822\" y2=\"0.0\" stroke-width=\"1.0\" stroke=\"rgb(71,71,71)\" stroke-opacity=\"1.0\">\n        </line>\n      </g>\n      <g transform=\"translate(42.99591213121782 0.0 ) \">\n        <line x1=\"0.0\" y1=\"295.07242419070377\" x2=\"524.0040878687822\" y2=\"295.07242419070377\" stroke=\"rgb(233,233,233)\" stroke-opacity=\"1.0\" stroke-width=\"1.0\">\n        </line>\n        <line x1=\"0.0\" y1=\"246.14484838140754\" x2=\"524.0040878687822\" y2=\"246.14484838140754\" stroke=\"rgb(233,233,233)\" stroke-opacity=\"1.0\" stroke-width=\"1.0\">\n        </line>\n        <line x1=\"0.0\" y1=\"197.21727257211128\" x2=\"524.0040878687822\" y2=\"197.21727257211128\" stroke=\"rgb(233,233,233)\" stroke-opacity=\"1.0\" stroke-width=\"1.0\">\n        </line>\n        <line x1=\"0.0\" y1=\"148.28969676281505\" x2=\"524.0040878687822\" y2=\"148.28969676281505\" stroke=\"rgb(233,233,233)\" stroke-opacity=\"1.0\" stroke-width=\"1.0\">\n        </line>\n        <line x1=\"0.0\" y1=\"99.36212095351883\" x2=\"524.0040878687822\" y2=\"99.36212095351883\" stroke=\"rgb(233,233,233)\" stroke-opacity=\"1.0\" stroke-width=\"1.0\">\n        </line>\n        <line x1=\"0.0\" y1=\"50.43454514422257\" x2=\"524.0040878687822\" y2=\"50.43454514422257\" stroke=\"rgb(233,233,233)\" stroke-opacity=\"1.0\" stroke-width=\"1.0\">\n        </line>\n        <g transform=\"translate(0.0 344.0 ) \">\n          <g transform=\"translate(-3.0 0.0 ) \">\n            <text class=\"axis-text-y\" text-anchor=\"end\" dy=\"0.35em\">\n            0\n            </text>\n          </g>\n        </g>\n        <g transform=\"translate(0.0 295.07242419070377 ) \">\n          <g transform=\"translate(-3.0 0.0 ) \">\n            <text class=\"axis-text-y\" text-anchor=\"end\" dy=\"0.35em\">\n            500\n            </text>\n          </g>\n        </g>\n        <g transform=\"translate(0.0 246.14484838140754 ) \">\n          <g transform=\"translate(-3.0 0.0 ) \">\n            <text class=\"axis-text-y\" text-anchor=\"end\" dy=\"0.35em\">\n            1,000\n            </text>\n          </g>\n        </g>\n        <g transform=\"translate(0.0 197.21727257211128 ) \">\n          <g transform=\"translate(-3.0 0.0 ) \">\n            <text class=\"axis-text-y\" text-anchor=\"end\" dy=\"0.35em\">\n            1,500\n            </text>\n          </g>\n        </g>\n        <g transform=\"translate(0.0 148.28969676281505 ) \">\n          <g transform=\"translate(-3.0 0.0 ) \">\n            <text class=\"axis-text-y\" text-anchor=\"end\" dy=\"0.35em\">\n            2,000\n            </text>\n          </g>\n        </g>\n        <g transform=\"translate(0.0 99.36212095351883 ) \">\n          <g transform=\"translate(-3.0 0.0 ) \">\n            <text class=\"axis-text-y\" text-anchor=\"end\" dy=\"0.35em\">\n            2,500\n            </text>\n          </g>\n        </g>\n        <g transform=\"translate(0.0 50.43454514422257 ) \">\n          <g transform=\"translate(-3.0 0.0 ) \">\n            <text class=\"axis-text-y\" text-anchor=\"end\" dy=\"0.35em\">\n            3,000\n            </text>\n          </g>\n        </g>\n        <g transform=\"translate(0.0 1.5069693349263389 ) \">\n          <g transform=\"translate(-3.0 0.0 ) \">\n            <text class=\"axis-text-y\" text-anchor=\"end\" dy=\"0.35em\">\n            3,500\n            </text>\n          </g>\n        </g>\n      </g>\n      <g transform=\"translate(42.99591213121782 0.0 ) \" clip-path=\"url(#cv3c8Fg)\" clip-bounds-jfx=\"[rect (0.0, 0.0), (524.0040878687822, 344.0)]\">\n        <defs>\n          <clipPath id=\"cv3c8Fg\">\n            <rect x=\"0.0\" y=\"0.0\" width=\"524.0040878687822\" height=\"344.0\">\n            </rect>\n          </clipPath>\n        </defs>\n        <rect x=\"496.0986790815938\" y=\"343.9021448483814\" height=\"0.09785515161860303\" width=\"4.087041156789155\" stroke=\"rgb(0,0,0)\" stroke-opacity=\"0.0\" fill=\"rgb(17,142,216)\" fill-opacity=\"1.0\" stroke-width=\"1.0\">\n        </rect>\n        <rect x=\"487.0163653998401\" y=\"343.9021448483814\" height=\"0.09785515161860303\" width=\"4.087041156789155\" stroke=\"rgb(0,0,0)\" stroke-opacity=\"0.0\" fill=\"rgb(17,142,216)\" fill-opacity=\"1.0\" stroke-width=\"1.0\">\n        </rect>\n        <rect x=\"473.3928948772095\" y=\"343.9021448483814\" height=\"0.09785515161860303\" width=\"4.087041156789155\" stroke=\"rgb(0,0,0)\" stroke-opacity=\"0.0\" fill=\"rgb(17,142,216)\" fill-opacity=\"1.0\" stroke-width=\"1.0\">\n        </rect>\n        <rect x=\"464.3105811954557\" y=\"343.9021448483814\" height=\"0.09785515161860303\" width=\"4.087041156789269\" stroke=\"rgb(0,0,0)\" stroke-opacity=\"0.0\" fill=\"rgb(17,142,216)\" fill-opacity=\"1.0\" stroke-width=\"1.0\">\n        </rect>\n        <rect x=\"459.76942435457886\" y=\"343.9021448483814\" height=\"0.09785515161860303\" width=\"4.087041156789269\" stroke=\"rgb(0,0,0)\" stroke-opacity=\"0.0\" fill=\"rgb(17,142,216)\" fill-opacity=\"1.0\" stroke-width=\"1.0\">\n        </rect>\n        <rect x=\"455.228267513702\" y=\"343.51072424190704\" height=\"0.4892757580929583\" width=\"4.087041156789155\" stroke=\"rgb(0,0,0)\" stroke-opacity=\"0.0\" fill=\"rgb(17,142,216)\" fill-opacity=\"1.0\" stroke-width=\"1.0\">\n        </rect>\n        <rect x=\"450.68711067282516\" y=\"343.51072424190704\" height=\"0.4892757580929583\" width=\"4.087041156789155\" stroke=\"rgb(0,0,0)\" stroke-opacity=\"0.0\" fill=\"rgb(17,142,216)\" fill-opacity=\"1.0\" stroke-width=\"1.0\">\n        </rect>\n        <rect x=\"446.1459538319483\" y=\"343.41286909028844\" height=\"0.5871309097115613\" width=\"4.087041156789155\" stroke=\"rgb(0,0,0)\" stroke-opacity=\"0.0\" fill=\"rgb(17,142,216)\" fill-opacity=\"1.0\" stroke-width=\"1.0\">\n        </rect>\n        <rect x=\"441.60479699107134\" y=\"343.0214484838141\" height=\"0.9785515161859166\" width=\"4.087041156789269\" stroke=\"rgb(0,0,0)\" stroke-opacity=\"0.0\" fill=\"rgb(17,142,216)\" fill-opacity=\"1.0\" stroke-width=\"1.0\">\n        </rect>\n        <rect x=\"437.0636401501945\" y=\"342.04289696762817\" height=\"1.9571030323718333\" width=\"4.087041156789269\" stroke=\"rgb(0,0,0)\" stroke-opacity=\"0.0\" fill=\"rgb(17,142,216)\" fill-opacity=\"1.0\" stroke-width=\"1.0\">\n        </rect>\n        <rect x=\"432.52248330931764\" y=\"342.4343175741025\" height=\"1.565682425897478\" width=\"4.087041156789269\" stroke=\"rgb(0,0,0)\" stroke-opacity=\"0.0\" fill=\"rgb(17,142,216)\" fill-opacity=\"1.0\" stroke-width=\"1.0\">\n        </rect>\n        <rect x=\"427.9813264684408\" y=\"341.84718666439096\" height=\"2.1528133356090393\" width=\"4.087041156789155\" stroke=\"rgb(0,0,0)\" stroke-opacity=\"0.0\" fill=\"rgb(17,142,216)\" fill-opacity=\"1.0\" stroke-width=\"1.0\">\n        </rect>\n        <rect x=\"423.44016962756393\" y=\"340.86863514820504\" height=\"3.131364851794956\" width=\"4.087041156789155\" stroke=\"rgb(0,0,0)\" stroke-opacity=\"0.0\" fill=\"rgb(17,142,216)\" fill-opacity=\"1.0\" stroke-width=\"1.0\">\n        </rect>\n        <rect x=\"418.8990127866871\" y=\"339.8900836320191\" height=\"4.109916367980873\" width=\"4.087041156789155\" stroke=\"rgb(0,0,0)\" stroke-opacity=\"0.0\" fill=\"rgb(17,142,216)\" fill-opacity=\"1.0\" stroke-width=\"1.0\">\n        </rect>\n        <rect x=\"414.3578559458101\" y=\"339.5965181771633\" height=\"4.403481822836682\" width=\"4.087041156789269\" stroke=\"rgb(0,0,0)\" stroke-opacity=\"0.0\" fill=\"rgb(17,142,216)\" fill-opacity=\"1.0\" stroke-width=\"1.0\">\n        </rect>\n        <rect x=\"409.81669910493326\" y=\"337.8351254480287\" height=\"6.164874551971309\" width=\"4.087041156789269\" stroke=\"rgb(0,0,0)\" stroke-opacity=\"0.0\" fill=\"rgb(17,142,216)\" fill-opacity=\"1.0\" stroke-width=\"1.0\">\n        </rect>\n        <rect x=\"405.2755422640564\" y=\"336.8565739318428\" height=\"7.1434260681572255\" width=\"4.087041156789269\" stroke=\"rgb(0,0,0)\" stroke-opacity=\"0.0\" fill=\"rgb(17,142,216)\" fill-opacity=\"1.0\" stroke-width=\"1.0\">\n        </rect>\n        <rect x=\"400.73438542317956\" y=\"335.2908915059453\" height=\"8.709108494054703\" width=\"4.087041156789155\" stroke=\"rgb(0,0,0)\" stroke-opacity=\"0.0\" fill=\"rgb(17,142,216)\" fill-opacity=\"1.0\" stroke-width=\"1.0\">\n        </rect>\n        <rect x=\"396.1932285823027\" y=\"333.6273539284292\" height=\"10.372646071570784\" width=\"4.087041156789155\" stroke=\"rgb(0,0,0)\" stroke-opacity=\"0.0\" fill=\"rgb(17,142,216)\" fill-opacity=\"1.0\" stroke-width=\"1.0\">\n        </rect>\n        <rect x=\"391.65207174142586\" y=\"327.75604483131366\" height=\"16.24395516868634\" width=\"4.087041156789155\" stroke=\"rgb(0,0,0)\" stroke-opacity=\"0.0\" fill=\"rgb(17,142,216)\" fill-opacity=\"1.0\" stroke-width=\"1.0\">\n        </rect>\n        <rect x=\"387.1109149005489\" y=\"325.505376344086\" height=\"18.494623655913983\" width=\"4.087041156789269\" stroke=\"rgb(0,0,0)\" stroke-opacity=\"0.0\" fill=\"rgb(17,142,216)\" fill-opacity=\"1.0\" stroke-width=\"1.0\">\n        </rect>\n        <rect x=\"382.56975805967204\" y=\"321.19974967286794\" height=\"22.800250327132062\" width=\"4.087041156789269\" stroke=\"rgb(0,0,0)\" stroke-opacity=\"0.0\" fill=\"rgb(17,142,216)\" fill-opacity=\"1.0\" stroke-width=\"1.0\">\n        </rect>\n        <rect x=\"378.0286012187952\" y=\"316.4048472435569\" height=\"27.5951527564431\" width=\"4.087041156789269\" stroke=\"rgb(0,0,0)\" stroke-opacity=\"0.0\" fill=\"rgb(17,142,216)\" fill-opacity=\"1.0\" stroke-width=\"1.0\">\n        </rect>\n        <rect x=\"373.48744437791834\" y=\"312.8820617852876\" height=\"31.11793821471241\" width=\"4.087041156789155\" stroke=\"rgb(0,0,0)\" stroke-opacity=\"0.0\" fill=\"rgb(17,142,216)\" fill-opacity=\"1.0\" stroke-width=\"1.0\">\n        </rect>\n        <rect x=\"368.9462875370415\" y=\"303.1944017750469\" height=\"40.80559822495309\" width=\"4.087041156789155\" stroke=\"rgb(0,0,0)\" stroke-opacity=\"0.0\" fill=\"rgb(17,142,216)\" fill-opacity=\"1.0\" stroke-width=\"1.0\">\n        </rect>\n        <rect x=\"364.40513069616463\" y=\"298.4973544973545\" height=\"45.50264550264552\" width=\"4.087041156789155\" stroke=\"rgb(0,0,0)\" stroke-opacity=\"0.0\" fill=\"rgb(17,142,216)\" fill-opacity=\"1.0\" stroke-width=\"1.0\">\n        </rect>\n        <rect x=\"359.86397385528767\" y=\"291.0603629743415\" height=\"52.9396370256585\" width=\"4.087041156789269\" stroke=\"rgb(0,0,0)\" stroke-opacity=\"0.0\" fill=\"rgb(17,142,216)\" fill-opacity=\"1.0\" stroke-width=\"1.0\">\n        </rect>\n        <rect x=\"355.3228170144108\" y=\"283.8190817545656\" height=\"60.180918245434384\" width=\"4.087041156789269\" stroke=\"rgb(0,0,0)\" stroke-opacity=\"0.0\" fill=\"rgb(17,142,216)\" fill-opacity=\"1.0\" stroke-width=\"1.0\">\n        </rect>\n        <rect x=\"350.78166017353396\" y=\"269.6300847698697\" height=\"74.36991523013029\" width=\"4.087041156789155\" stroke=\"rgb(0,0,0)\" stroke-opacity=\"0.0\" fill=\"rgb(17,142,216)\" fill-opacity=\"1.0\" stroke-width=\"1.0\">\n        </rect>\n        <rect x=\"346.2405033326571\" y=\"254.26682596575068\" height=\"89.73317403424932\" width=\"4.087041156789155\" stroke=\"rgb(0,0,0)\" stroke-opacity=\"0.0\" fill=\"rgb(17,142,216)\" fill-opacity=\"1.0\" stroke-width=\"1.0\">\n        </rect>\n        <rect x=\"341.69934649178026\" y=\"248.78693747510954\" height=\"95.21306252489046\" width=\"4.087041156789155\" stroke=\"rgb(0,0,0)\" stroke-opacity=\"0.0\" fill=\"rgb(17,142,216)\" fill-opacity=\"1.0\" stroke-width=\"1.0\">\n        </rect>\n        <rect x=\"337.1581896509033\" y=\"237.04431928087843\" height=\"106.95568071912157\" width=\"4.087041156789269\" stroke=\"rgb(0,0,0)\" stroke-opacity=\"0.0\" fill=\"rgb(17,142,216)\" fill-opacity=\"1.0\" stroke-width=\"1.0\">\n        </rect>\n        <rect x=\"332.61703281002644\" y=\"227.55236957387496\" height=\"116.44763042612504\" width=\"4.087041156789269\" stroke=\"rgb(0,0,0)\" stroke-opacity=\"0.0\" fill=\"rgb(17,142,216)\" fill-opacity=\"1.0\" stroke-width=\"1.0\">\n        </rect>\n        <rect x=\"328.0758759691496\" y=\"210.3298628890027\" height=\"133.6701371109973\" width=\"4.087041156789269\" stroke=\"rgb(0,0,0)\" stroke-opacity=\"0.0\" fill=\"rgb(17,142,216)\" fill-opacity=\"1.0\" stroke-width=\"1.0\">\n        </rect>\n        <rect x=\"323.53471912827274\" y=\"189.3888604426239\" height=\"154.6111395573761\" width=\"4.087041156789155\" stroke=\"rgb(0,0,0)\" stroke-opacity=\"0.0\" fill=\"rgb(17,142,216)\" fill-opacity=\"1.0\" stroke-width=\"1.0\">\n        </rect>\n        <rect x=\"318.9935622873959\" y=\"183.22398589065259\" height=\"160.77601410934741\" width=\"4.087041156789155\" stroke=\"rgb(0,0,0)\" stroke-opacity=\"0.0\" fill=\"rgb(17,142,216)\" fill-opacity=\"1.0\" stroke-width=\"1.0\">\n        </rect>\n        <rect x=\"314.45240544651904\" y=\"160.91301132161348\" height=\"183.08698867838652\" width=\"4.087041156789155\" stroke=\"rgb(0,0,0)\" stroke-opacity=\"0.0\" fill=\"rgb(17,142,216)\" fill-opacity=\"1.0\" stroke-width=\"1.0\">\n        </rect>\n        <rect x=\"309.9112486056421\" y=\"148.19184161119648\" height=\"195.80815838880352\" width=\"4.087041156789269\" stroke=\"rgb(0,0,0)\" stroke-opacity=\"0.0\" fill=\"rgb(17,142,216)\" fill-opacity=\"1.0\" stroke-width=\"1.0\">\n        </rect>\n        <rect x=\"305.3700917647652\" y=\"134.39426523297493\" height=\"209.60573476702507\" width=\"4.087041156789269\" stroke=\"rgb(0,0,0)\" stroke-opacity=\"0.0\" fill=\"rgb(17,142,216)\" fill-opacity=\"1.0\" stroke-width=\"1.0\">\n        </rect>\n        <rect x=\"300.82893492388837\" y=\"116.3889173351539\" height=\"227.6110826648461\" width=\"4.087041156789269\" stroke=\"rgb(0,0,0)\" stroke-opacity=\"0.0\" fill=\"rgb(17,142,216)\" fill-opacity=\"1.0\" stroke-width=\"1.0\">\n        </rect>\n        <rect x=\"296.2877780830115\" y=\"87.9130682141435\" height=\"256.0869317858565\" width=\"4.087041156789155\" stroke=\"rgb(0,0,0)\" stroke-opacity=\"0.0\" fill=\"rgb(17,142,216)\" fill-opacity=\"1.0\" stroke-width=\"1.0\">\n        </rect>\n        <rect x=\"291.74662124213467\" y=\"75.58331911020088\" height=\"268.4166808897991\" width=\"4.087041156789155\" stroke=\"rgb(0,0,0)\" stroke-opacity=\"0.0\" fill=\"rgb(17,142,216)\" fill-opacity=\"1.0\" stroke-width=\"1.0\">\n        </rect>\n        <rect x=\"287.2054644012578\" y=\"80.67178699436766\" height=\"263.32821300563234\" width=\"4.087041156789155\" stroke=\"rgb(0,0,0)\" stroke-opacity=\"0.0\" fill=\"rgb(17,142,216)\" fill-opacity=\"1.0\" stroke-width=\"1.0\">\n        </rect>\n        <rect x=\"282.66430756038085\" y=\"59.73078454798889\" height=\"284.2692154520111\" width=\"4.087041156789269\" stroke=\"rgb(0,0,0)\" stroke-opacity=\"0.0\" fill=\"rgb(17,142,216)\" fill-opacity=\"1.0\" stroke-width=\"1.0\">\n        </rect>\n        <rect x=\"278.123150719504\" y=\"53.17448938954317\" height=\"290.82551061045683\" width=\"4.087041156789269\" stroke=\"rgb(0,0,0)\" stroke-opacity=\"0.0\" fill=\"rgb(17,142,216)\" fill-opacity=\"1.0\" stroke-width=\"1.0\">\n        </rect>\n        <rect x=\"273.58199387862715\" y=\"44.85680150196282\" height=\"299.1431984980372\" width=\"4.087041156789269\" stroke=\"rgb(0,0,0)\" stroke-opacity=\"0.0\" fill=\"rgb(17,142,216)\" fill-opacity=\"1.0\" stroke-width=\"1.0\">\n        </rect>\n        <rect x=\"269.0408370377503\" y=\"28.61284633327648\" height=\"315.3871536667235\" width=\"4.087041156789155\" stroke=\"rgb(0,0,0)\" stroke-opacity=\"0.0\" fill=\"rgb(17,142,216)\" fill-opacity=\"1.0\" stroke-width=\"1.0\">\n        </rect>\n        <rect x=\"264.49968019687344\" y=\"23.426523297491087\" height=\"320.5734767025089\" width=\"4.087041156789155\" stroke=\"rgb(0,0,0)\" stroke-opacity=\"0.0\" fill=\"rgb(17,142,216)\" fill-opacity=\"1.0\" stroke-width=\"1.0\">\n        </rect>\n        <rect x=\"259.9585233559966\" y=\"16.380952380952408\" height=\"327.6190476190476\" width=\"4.087041156789155\" stroke=\"rgb(0,0,0)\" stroke-opacity=\"0.0\" fill=\"rgb(17,142,216)\" fill-opacity=\"1.0\" stroke-width=\"1.0\">\n        </rect>\n        <rect x=\"255.41736651511962\" y=\"21.175854810263445\" height=\"322.82414518973656\" width=\"4.087041156789269\" stroke=\"rgb(0,0,0)\" stroke-opacity=\"0.0\" fill=\"rgb(17,142,216)\" fill-opacity=\"1.0\" stroke-width=\"1.0\">\n        </rect>\n        <rect x=\"250.87620967424277\" y=\"19.610172384365967\" height=\"324.38982761563403\" width=\"4.087041156789269\" stroke=\"rgb(0,0,0)\" stroke-opacity=\"0.0\" fill=\"rgb(17,142,216)\" fill-opacity=\"1.0\" stroke-width=\"1.0\">\n        </rect>\n        <rect x=\"246.33505283336592\" y=\"22.741537236160923\" height=\"321.2584627638391\" width=\"4.087041156789269\" stroke=\"rgb(0,0,0)\" stroke-opacity=\"0.0\" fill=\"rgb(17,142,216)\" fill-opacity=\"1.0\" stroke-width=\"1.0\">\n        </rect>\n        <rect x=\"241.79389599248907\" y=\"29.591397849462396\" height=\"314.4086021505376\" width=\"4.087041156789155\" stroke=\"rgb(0,0,0)\" stroke-opacity=\"0.0\" fill=\"rgb(17,142,216)\" fill-opacity=\"1.0\" stroke-width=\"1.0\">\n        </rect>\n        <rect x=\"237.25273915161222\" y=\"36.44125846276387\" height=\"307.55874153723613\" width=\"4.087041156789155\" stroke=\"rgb(0,0,0)\" stroke-opacity=\"0.0\" fill=\"rgb(17,142,216)\" fill-opacity=\"1.0\" stroke-width=\"1.0\">\n        </rect>\n        <rect x=\"232.71158231073537\" y=\"40.55117483074474\" height=\"303.44882516925526\" width=\"4.087041156789155\" stroke=\"rgb(0,0,0)\" stroke-opacity=\"0.0\" fill=\"rgb(17,142,216)\" fill-opacity=\"1.0\" stroke-width=\"1.0\">\n        </rect>\n        <rect x=\"228.1704254698584\" y=\"59.82863969960749\" height=\"284.1713603003925\" width=\"4.087041156789269\" stroke=\"rgb(0,0,0)\" stroke-opacity=\"0.0\" fill=\"rgb(17,142,216)\" fill-opacity=\"1.0\" stroke-width=\"1.0\">\n        </rect>\n        <rect x=\"223.62926862898155\" y=\"66.58064516129036\" height=\"277.41935483870964\" width=\"4.087041156789269\" stroke=\"rgb(0,0,0)\" stroke-opacity=\"0.0\" fill=\"rgb(17,142,216)\" fill-opacity=\"1.0\" stroke-width=\"1.0\">\n        </rect>\n        <rect x=\"219.0881117881047\" y=\"86.24953063662741\" height=\"257.7504693633726\" width=\"4.087041156789269\" stroke=\"rgb(0,0,0)\" stroke-opacity=\"0.0\" fill=\"rgb(17,142,216)\" fill-opacity=\"1.0\" stroke-width=\"1.0\">\n        </rect>\n        <rect x=\"214.54695494722785\" y=\"95.74148034363091\" height=\"248.2585196563691\" width=\"4.087041156789155\" stroke=\"rgb(0,0,0)\" stroke-opacity=\"0.0\" fill=\"rgb(17,142,216)\" fill-opacity=\"1.0\" stroke-width=\"1.0\">\n        </rect>\n        <rect x=\"210.005798106351\" y=\"118.63958582238155\" height=\"225.36041417761845\" width=\"4.087041156789155\" stroke=\"rgb(0,0,0)\" stroke-opacity=\"0.0\" fill=\"rgb(17,142,216)\" fill-opacity=\"1.0\" stroke-width=\"1.0\">\n        </rect>\n        <rect x=\"205.46464126547414\" y=\"129.11008704557094\" height=\"214.88991295442906\" width=\"4.087041156789155\" stroke=\"rgb(0,0,0)\" stroke-opacity=\"0.0\" fill=\"rgb(17,142,216)\" fill-opacity=\"1.0\" stroke-width=\"1.0\">\n        </rect>\n        <rect x=\"200.92348442459718\" y=\"146.91972464015475\" height=\"197.08027535984525\" width=\"4.087041156789269\" stroke=\"rgb(0,0,0)\" stroke-opacity=\"0.0\" fill=\"rgb(17,142,216)\" fill-opacity=\"1.0\" stroke-width=\"1.0\">\n        </rect>\n        <rect x=\"196.38232758372033\" y=\"163.75081071855266\" height=\"180.24918928144734\" width=\"4.087041156789269\" stroke=\"rgb(0,0,0)\" stroke-opacity=\"0.0\" fill=\"rgb(17,142,216)\" fill-opacity=\"1.0\" stroke-width=\"1.0\">\n        </rect>\n        <rect x=\"191.84117074284347\" y=\"178.72264891619733\" height=\"165.27735108380267\" width=\"4.087041156789155\" stroke=\"rgb(0,0,0)\" stroke-opacity=\"0.0\" fill=\"rgb(17,142,216)\" fill-opacity=\"1.0\" stroke-width=\"1.0\">\n        </rect>\n        <rect x=\"187.30001390196662\" y=\"195.55373499459523\" height=\"148.44626500540477\" width=\"4.087041156789155\" stroke=\"rgb(0,0,0)\" stroke-opacity=\"0.0\" fill=\"rgb(17,142,216)\" fill-opacity=\"1.0\" stroke-width=\"1.0\">\n        </rect>\n        <rect x=\"182.75885706108977\" y=\"204.16498833703136\" height=\"139.83501166296864\" width=\"4.087041156789155\" stroke=\"rgb(0,0,0)\" stroke-opacity=\"0.0\" fill=\"rgb(17,142,216)\" fill-opacity=\"1.0\" stroke-width=\"1.0\">\n        </rect>\n        <rect x=\"178.2177002202128\" y=\"233.03225806451616\" height=\"110.96774193548384\" width=\"4.087041156789269\" stroke=\"rgb(0,0,0)\" stroke-opacity=\"0.0\" fill=\"rgb(17,142,216)\" fill-opacity=\"1.0\" stroke-width=\"1.0\">\n        </rect>\n        <rect x=\"173.67654337933595\" y=\"237.43573988735278\" height=\"106.56426011264722\" width=\"4.087041156789269\" stroke=\"rgb(0,0,0)\" stroke-opacity=\"0.0\" fill=\"rgb(17,142,216)\" fill-opacity=\"1.0\" stroke-width=\"1.0\">\n        </rect>\n        <rect x=\"169.1353865384591\" y=\"244.48131080389146\" height=\"99.51868919610854\" width=\"4.087041156789269\" stroke=\"rgb(0,0,0)\" stroke-opacity=\"0.0\" fill=\"rgb(17,142,216)\" fill-opacity=\"1.0\" stroke-width=\"1.0\">\n        </rect>\n        <rect x=\"164.59422969758225\" y=\"263.6609205211356\" height=\"80.33907947886439\" width=\"4.087041156789155\" stroke=\"rgb(0,0,0)\" stroke-opacity=\"0.0\" fill=\"rgb(17,142,216)\" fill-opacity=\"1.0\" stroke-width=\"1.0\">\n        </rect>\n        <rect x=\"160.0530728567054\" y=\"269.6300847698697\" height=\"74.36991523013029\" width=\"4.087041156789155\" stroke=\"rgb(0,0,0)\" stroke-opacity=\"0.0\" fill=\"rgb(17,142,216)\" fill-opacity=\"1.0\" stroke-width=\"1.0\">\n        </rect>\n        <rect x=\"155.51191601582855\" y=\"289.2011150935882\" height=\"54.798884906411786\" width=\"4.087041156789155\" stroke=\"rgb(0,0,0)\" stroke-opacity=\"0.0\" fill=\"rgb(17,142,216)\" fill-opacity=\"1.0\" stroke-width=\"1.0\">\n        </rect>\n        <rect x=\"150.97075917495158\" y=\"293.4088866131877\" height=\"50.59111338681231\" width=\"4.087041156789269\" stroke=\"rgb(0,0,0)\" stroke-opacity=\"0.0\" fill=\"rgb(17,142,216)\" fill-opacity=\"1.0\" stroke-width=\"1.0\">\n        </rect>\n        <rect x=\"146.42960233407473\" y=\"302.3137054104796\" height=\"41.6862945895204\" width=\"4.087041156789269\" stroke=\"rgb(0,0,0)\" stroke-opacity=\"0.0\" fill=\"rgb(17,142,216)\" fill-opacity=\"1.0\" stroke-width=\"1.0\">\n        </rect>\n        <rect x=\"141.88844549319788\" y=\"310.4356829948228\" height=\"33.5643170051772\" width=\"4.087041156789269\" stroke=\"rgb(0,0,0)\" stroke-opacity=\"0.0\" fill=\"rgb(17,142,216)\" fill-opacity=\"1.0\" stroke-width=\"1.0\">\n        </rect>\n        <rect x=\"137.34728865232103\" y=\"313.8606133014735\" height=\"30.139386698526494\" width=\"4.087041156789155\" stroke=\"rgb(0,0,0)\" stroke-opacity=\"0.0\" fill=\"rgb(17,142,216)\" fill-opacity=\"1.0\" stroke-width=\"1.0\">\n        </rect>\n        <rect x=\"132.80613181144417\" y=\"317.4812539113614\" height=\"26.51874608863858\" width=\"4.087041156789155\" stroke=\"rgb(0,0,0)\" stroke-opacity=\"0.0\" fill=\"rgb(17,142,216)\" fill-opacity=\"1.0\" stroke-width=\"1.0\">\n        </rect>\n        <rect x=\"128.26497497056732\" y=\"322.7654320987654\" height=\"21.234567901234584\" width=\"4.087041156789155\" stroke=\"rgb(0,0,0)\" stroke-opacity=\"0.0\" fill=\"rgb(17,142,216)\" fill-opacity=\"1.0\" stroke-width=\"1.0\">\n        </rect>\n        <rect x=\"123.72381812969036\" y=\"326.1903624054162\" height=\"17.80963759458382\" width=\"4.087041156789269\" stroke=\"rgb(0,0,0)\" stroke-opacity=\"0.0\" fill=\"rgb(17,142,216)\" fill-opacity=\"1.0\" stroke-width=\"1.0\">\n        </rect>\n        <rect x=\"119.1826612888135\" y=\"331.0831199863458\" height=\"12.916880013654179\" width=\"4.087041156789269\" stroke=\"rgb(0,0,0)\" stroke-opacity=\"0.0\" fill=\"rgb(17,142,216)\" fill-opacity=\"1.0\" stroke-width=\"1.0\">\n        </rect>\n        <rect x=\"114.64150444793665\" y=\"334.01877453490357\" height=\"9.98122546509643\" width=\"4.087041156789269\" stroke=\"rgb(0,0,0)\" stroke-opacity=\"0.0\" fill=\"rgb(17,142,216)\" fill-opacity=\"1.0\" stroke-width=\"1.0\">\n        </rect>\n        <rect x=\"110.1003476070598\" y=\"336.1715878705126\" height=\"7.82841212948739\" width=\"4.087041156789155\" stroke=\"rgb(0,0,0)\" stroke-opacity=\"0.0\" fill=\"rgb(17,142,216)\" fill-opacity=\"1.0\" stroke-width=\"1.0\">\n        </rect>\n        <rect x=\"105.55919076618295\" y=\"336.8565739318428\" height=\"7.1434260681572255\" width=\"4.087041156789155\" stroke=\"rgb(0,0,0)\" stroke-opacity=\"0.0\" fill=\"rgb(17,142,216)\" fill-opacity=\"1.0\" stroke-width=\"1.0\">\n        </rect>\n        <rect x=\"101.0180339253061\" y=\"337.6394151447915\" height=\"6.360584855208515\" width=\"4.087041156789155\" stroke=\"rgb(0,0,0)\" stroke-opacity=\"0.0\" fill=\"rgb(17,142,216)\" fill-opacity=\"1.0\" stroke-width=\"1.0\">\n        </rect>\n        <rect x=\"96.47687708442913\" y=\"338.32440120612165\" height=\"5.6755987938783505\" width=\"4.087041156789269\" stroke=\"rgb(0,0,0)\" stroke-opacity=\"0.0\" fill=\"rgb(17,142,216)\" fill-opacity=\"1.0\" stroke-width=\"1.0\">\n        </rect>\n        <rect x=\"91.93572024355228\" y=\"340.67292484496784\" height=\"3.327075155032162\" width=\"4.087041156789269\" stroke=\"rgb(0,0,0)\" stroke-opacity=\"0.0\" fill=\"rgb(17,142,216)\" fill-opacity=\"1.0\" stroke-width=\"1.0\">\n        </rect>\n        <rect x=\"87.39456340267543\" y=\"341.1622006030608\" height=\"2.8377993969392037\" width=\"4.087041156789269\" stroke=\"rgb(0,0,0)\" stroke-opacity=\"0.0\" fill=\"rgb(17,142,216)\" fill-opacity=\"1.0\" stroke-width=\"1.0\">\n        </rect>\n        <rect x=\"82.85340656179858\" y=\"342.2386072708653\" height=\"1.761392729134684\" width=\"4.087041156789155\" stroke=\"rgb(0,0,0)\" stroke-opacity=\"0.0\" fill=\"rgb(17,142,216)\" fill-opacity=\"1.0\" stroke-width=\"1.0\">\n        </rect>\n        <rect x=\"78.31224972092173\" y=\"342.7278830289583\" height=\"1.2721169710417257\" width=\"4.087041156789155\" stroke=\"rgb(0,0,0)\" stroke-opacity=\"0.0\" fill=\"rgb(17,142,216)\" fill-opacity=\"1.0\" stroke-width=\"1.0\">\n        </rect>\n        <rect x=\"73.77109288004488\" y=\"342.9235933321955\" height=\"1.0764066678045197\" width=\"4.087041156789155\" stroke=\"rgb(0,0,0)\" stroke-opacity=\"0.0\" fill=\"rgb(17,142,216)\" fill-opacity=\"1.0\" stroke-width=\"1.0\">\n        </rect>\n        <rect x=\"69.22993603916791\" y=\"343.51072424190704\" height=\"0.4892757580929583\" width=\"4.087041156789269\" stroke=\"rgb(0,0,0)\" stroke-opacity=\"0.0\" fill=\"rgb(17,142,216)\" fill-opacity=\"1.0\" stroke-width=\"1.0\">\n        </rect>\n        <rect x=\"64.68877919829106\" y=\"343.70643454514425\" height=\"0.29356545485575225\" width=\"4.087041156789269\" stroke=\"rgb(0,0,0)\" stroke-opacity=\"0.0\" fill=\"rgb(17,142,216)\" fill-opacity=\"1.0\" stroke-width=\"1.0\">\n        </rect>\n        <rect x=\"60.14762235741421\" y=\"343.51072424190704\" height=\"0.4892757580929583\" width=\"4.087041156789155\" stroke=\"rgb(0,0,0)\" stroke-opacity=\"0.0\" fill=\"rgb(17,142,216)\" fill-opacity=\"1.0\" stroke-width=\"1.0\">\n        </rect>\n        <rect x=\"55.606465516537355\" y=\"343.8042896967628\" height=\"0.19571030323720606\" width=\"4.087041156789155\" stroke=\"rgb(0,0,0)\" stroke-opacity=\"0.0\" fill=\"rgb(17,142,216)\" fill-opacity=\"1.0\" stroke-width=\"1.0\">\n        </rect>\n        <rect x=\"51.0653086756605\" y=\"343.60857939352564\" height=\"0.3914206064743553\" width=\"4.087041156789155\" stroke=\"rgb(0,0,0)\" stroke-opacity=\"0.0\" fill=\"rgb(17,142,216)\" fill-opacity=\"1.0\" stroke-width=\"1.0\">\n        </rect>\n        <rect x=\"46.52415183478354\" y=\"343.70643454514425\" height=\"0.29356545485575225\" width=\"4.087041156789269\" stroke=\"rgb(0,0,0)\" stroke-opacity=\"0.0\" fill=\"rgb(17,142,216)\" fill-opacity=\"1.0\" stroke-width=\"1.0\">\n        </rect>\n        <rect x=\"41.982994993906686\" y=\"343.8042896967628\" height=\"0.19571030323720606\" width=\"4.087041156789155\" stroke=\"rgb(0,0,0)\" stroke-opacity=\"0.0\" fill=\"rgb(17,142,216)\" fill-opacity=\"1.0\" stroke-width=\"1.0\">\n        </rect>\n        <rect x=\"28.359524471276018\" y=\"343.9021448483814\" height=\"0.09785515161860303\" width=\"4.087041156789269\" stroke=\"rgb(0,0,0)\" stroke-opacity=\"0.0\" fill=\"rgb(17,142,216)\" fill-opacity=\"1.0\" stroke-width=\"1.0\">\n        </rect>\n        <rect x=\"23.818367630399166\" y=\"343.8042896967628\" height=\"0.19571030323720606\" width=\"4.087041156789269\" stroke=\"rgb(0,0,0)\" stroke-opacity=\"0.0\" fill=\"rgb(17,142,216)\" fill-opacity=\"1.0\" stroke-width=\"1.0\">\n        </rect>\n      </g>\n    </g>\n    <g transform=\"translate(14.5 182.0 ) rotate(-90.0 ) \">\n      <text class=\"axis-title-y\" y=\"0.0\" text-anchor=\"middle\">\n      y\n      </text>\n    </g>\n    <g transform=\"translate(327.99795606560895 391.5 ) \">\n      <text class=\"axis-title-x\" y=\"0.0\" text-anchor=\"middle\">\n      x\n      </text>\n    </g>\n  </g>\n  <g id=\"dKab0c5\">\n  </g>\n</svg>\n        <script>document.getElementById(\"c03f3f23-d0ff-4ab7-b588-5b96b63cea96\").style.display = \"none\";</script>",
      "application/plot+json": {
       "output_type": "lets_plot_spec",
       "output": {
        "mapping": {},
        "data": {
         "x": [
          124.0,
          125.0,
          128.0,
          129.0,
          130.0,
          131.0,
          132.0,
          133.0,
          134.0,
          135.0,
          136.0,
          137.0,
          138.0,
          139.0,
          140.0,
          141.0,
          142.0,
          143.0,
          144.0,
          145.0,
          146.0,
          147.0,
          148.0,
          149.0,
          150.0,
          151.0,
          152.0,
          153.0,
          154.0,
          155.0,
          156.0,
          157.0,
          158.0,
          159.0,
          160.0,
          161.0,
          162.0,
          163.0,
          164.0,
          165.0,
          166.0,
          167.0,
          168.0,
          169.0,
          170.0,
          171.0,
          172.0,
          173.0,
          174.0,
          175.0,
          176.0,
          177.0,
          178.0,
          179.0,
          180.0,
          181.0,
          182.0,
          183.0,
          184.0,
          185.0,
          186.0,
          187.0,
          188.0,
          189.0,
          190.0,
          191.0,
          192.0,
          193.0,
          194.0,
          195.0,
          196.0,
          197.0,
          198.0,
          199.0,
          200.0,
          201.0,
          202.0,
          203.0,
          204.0,
          205.0,
          206.0,
          207.0,
          208.0,
          209.0,
          210.0,
          211.0,
          212.0,
          213.0,
          214.0,
          215.0,
          216.0,
          217.0,
          218.0,
          219.0,
          220.0,
          221.0,
          223.0,
          226.0,
          228.0
         ],
         "y": [
          2.0,
          1.0,
          2.0,
          3.0,
          4.0,
          2.0,
          5.0,
          3.0,
          5.0,
          11.0,
          13.0,
          18.0,
          29.0,
          34.0,
          58.0,
          65.0,
          73.0,
          80.0,
          102.0,
          132.0,
          182.0,
          217.0,
          271.0,
          308.0,
          343.0,
          426.0,
          517.0,
          560.0,
          760.0,
          821.0,
          1017.0,
          1089.0,
          1134.0,
          1429.0,
          1517.0,
          1689.0,
          1842.0,
          2014.0,
          2196.0,
          2303.0,
          2537.0,
          2634.0,
          2835.0,
          2904.0,
          3101.0,
          3143.0,
          3213.0,
          3283.0,
          3315.0,
          3299.0,
          3348.0,
          3276.0,
          3223.0,
          3057.0,
          2972.0,
          2905.0,
          2691.0,
          2743.0,
          2617.0,
          2326.0,
          2142.0,
          2001.0,
          1871.0,
          1643.0,
          1580.0,
          1366.0,
          1190.0,
          1093.0,
          973.0,
          917.0,
          760.0,
          615.0,
          541.0,
          465.0,
          417.0,
          318.0,
          282.0,
          233.0,
          189.0,
          166.0,
          106.0,
          89.0,
          73.0,
          63.0,
          45.0,
          42.0,
          32.0,
          22.0,
          16.0,
          20.0,
          10.0,
          6.0,
          5.0,
          5.0,
          1.0,
          1.0,
          1.0,
          1.0,
          1.0
         ]
        },
        "kind": "plot",
        "scales": [
         {
          "aesthetic": "x",
          "limits": [
           null,
           null
          ]
         },
         {
          "aesthetic": "y",
          "limits": [
           null,
           null
          ]
         }
        ],
        "layers": [
         {
          "mapping": {
           "x": "x",
           "y": "y"
          },
          "stat": "identity",
          "sampling": "none",
          "position": "dodge",
          "geom": "bar"
         }
        ]
       },
       "apply_color_scheme": true,
       "swing_enabled": true
      }
     },
     "execution_count": 9,
     "metadata": {},
     "output_type": "execute_result"
    }
   ],
   "source": [
    "import kotlin.random.Random\n",
    "\n",
    "fun diceNTimesSum(n: Int): Int {\n",
    "    return (1..n).sumOf { Random.nextInt(1, 7) }\n",
    "}\n",
    "\n",
    "val experimentData = (1..100000).map { diceNTimesSum(50) }.groupBy { it }.mapValues { it.value.size }.entries.sortedBy { it.key }\n",
    "val experimentX = experimentData.map { it.key }\n",
    "val experimentY = experimentData.map { it.value }\n",
    "\n",
    "val gaussPlot = plot {\n",
    "    bars {\n",
    "        x(experimentX)\n",
    "        y(experimentY)\n",
    "    }\n",
    "}\n",
    "gaussPlot"
   ],
   "metadata": {
    "collapsed": false,
    "ExecuteTime": {
     "end_time": "2023-09-20T08:06:53.689761900Z",
     "start_time": "2023-09-20T08:06:53.330307100Z"
    }
   }
  },
  {
   "cell_type": "code",
   "execution_count": 5,
   "outputs": [
    {
     "data": {
      "text/plain": "class org.jetbrains.kotlinx.kandy.ir.Plot"
     },
     "execution_count": 5,
     "metadata": {},
     "output_type": "execute_result"
    }
   ],
   "source": [
    "gaussPlot::class"
   ],
   "metadata": {
    "collapsed": false,
    "ExecuteTime": {
     "end_time": "2023-09-20T08:04:26.398706400Z",
     "start_time": "2023-09-20T08:04:26.336504300Z"
    }
   }
  },
  {
   "cell_type": "code",
   "execution_count": 10,
   "outputs": [],
   "source": [
    "%use dataframe"
   ],
   "metadata": {
    "collapsed": false,
    "ExecuteTime": {
     "end_time": "2023-09-20T08:07:30.564998Z",
     "start_time": "2023-09-20T08:07:21.008361500Z"
    }
   }
  },
  {
   "cell_type": "code",
   "execution_count": 17,
   "outputs": [
    {
     "data": {
      "text/plain": "Line_26_jupyter$User@1a2b5733"
     },
     "execution_count": 17,
     "metadata": {},
     "output_type": "execute_result"
    }
   ],
   "source": [
    "class User(val firstName: String, val lastName: String)\n",
    "val bob = User(\"Bob\", \"Brown\")\n",
    "bob"
   ],
   "metadata": {
    "collapsed": false,
    "ExecuteTime": {
     "end_time": "2023-09-20T08:08:48.076109500Z",
     "start_time": "2023-09-20T08:08:48.004062300Z"
    }
   }
  },
  {
   "cell_type": "code",
   "execution_count": 20,
   "outputs": [],
   "source": [
    "USE {\n",
    "    render<User> { listOf(it).toDataFrame() }\n",
    "}"
   ],
   "metadata": {
    "collapsed": false,
    "ExecuteTime": {
     "end_time": "2023-09-20T08:09:18.907343100Z",
     "start_time": "2023-09-20T08:09:18.807656600Z"
    }
   }
  },
  {
   "cell_type": "code",
   "execution_count": 21,
   "outputs": [
    {
     "data": {
      "text/html": "            <iframe onload=\"o_resize_iframe_out_3()\" style=\"width:100%;\" class=\"result_container\" id=\"iframe_out_3\" frameBorder=\"0\" srcdoc=\"        &lt;html theme='dark'&gt;\n        &lt;head&gt;\n            &lt;style type=&quot;text&sol;css&quot;&gt;\n                :root {\n    --background: #fff;\n    --background-odd: #f5f5f5;\n    --background-hover: #d9edfd;\n    --header-text-color: #474747;\n    --text-color: #848484;\n    --text-color-dark: #000;\n    --text-color-medium: #737373;\n    --text-color-pale: #b3b3b3;\n    --inner-border-color: #aaa;\n    --bold-border-color: #000;\n    --link-color: #296eaa;\n    --link-color-pale: #296eaa;\n    --link-hover: #1a466c;\n}\n\n:root[theme=&quot;dark&quot;], :root [data-jp-theme-light=&quot;false&quot;], .dataframe_dark{\n    --background: #303030;\n    --background-odd: #3c3c3c;\n    --background-hover: #464646;\n    --header-text-color: #dddddd;\n    --text-color: #b3b3b3;\n    --text-color-dark: #dddddd;\n    --text-color-medium: #b2b2b2;\n    --text-color-pale: #737373;\n    --inner-border-color: #707070;\n    --bold-border-color: #777777;\n    --link-color: #008dc0;\n    --link-color-pale: #97e1fb;\n    --link-hover: #00688e;\n}\n\np.dataframe_description {\n    color: var(--text-color-dark);\n}\n\ntable.dataframe {\n    font-family: &quot;Helvetica Neue&quot;, Helvetica, Arial, sans-serif;\n    font-size: 12px;\n    background-color: var(--background);\n    color: var(--text-color-dark);\n    border: none;\n    border-collapse: collapse;\n}\n\ntable.dataframe th, td {\n    padding: 6px;\n    border: 1px solid transparent;\n    text-align: left;\n}\n\ntable.dataframe th {\n    background-color: var(--background);\n    color: var(--header-text-color);\n}\n\ntable.dataframe td {\n    vertical-align: top;\n}\n\ntable.dataframe th.bottomBorder {\n    border-bottom-color: var(--bold-border-color);\n}\n\ntable.dataframe tbody &gt; tr:nth-child(odd) {\n    background: var(--background-odd);\n}\n\ntable.dataframe tbody &gt; tr:nth-child(even) {\n    background: var(--background);\n}\n\ntable.dataframe tbody &gt; tr:hover {\n    background: var(--background-hover);\n}\n\ntable.dataframe a {\n    cursor: pointer;\n    color: var(--link-color);\n    text-decoration: none;\n}\n\ntable.dataframe tr:hover &gt; td a {\n    color: var(--link-color-pale);\n}\n\ntable.dataframe a:hover {\n    color: var(--link-hover);\n    text-decoration: underline;\n}\n\ntable.dataframe img {\n    max-width: fit-content;\n}\n\ntable.dataframe th.complex {\n    background-color: var(--background);\n    border: 1px solid var(--background);\n}\n\ntable.dataframe .leftBorder {\n    border-left-color: var(--inner-border-color);\n}\n\ntable.dataframe .rightBorder {\n    border-right-color: var(--inner-border-color);\n}\n\ntable.dataframe .rightAlign {\n    text-align: right;\n}\n\ntable.dataframe .expanderSvg {\n    width: 8px;\n    height: 8px;\n    margin-right: 3px;\n}\n\ntable.dataframe .expander {\n    display: flex;\n    align-items: center;\n}\n\n&sol;* formatting *&sol;\n\ntable.dataframe .null {\n    color: var(--text-color-pale);\n}\n\ntable.dataframe .structural {\n    color: var(--text-color-medium);\n    font-weight: bold;\n}\n\ntable.dataframe .dataFrameCaption {\n    font-weight: bold;\n}\n\ntable.dataframe .numbers {\n    color: var(--text-color-dark);\n}\n\ntable.dataframe td:hover .formatted .structural, .null {\n    color: var(--text-color-dark);\n}\n\ntable.dataframe tr:hover .formatted .structural, .null {\n    color: var(--text-color-dark);\n}\n\n\n\n\n:root {\n    --scroll-bg: #f5f5f5;\n    --scroll-fg: #b3b3b3;\n}\n:root[theme=&quot;dark&quot;], :root [data-jp-theme-light=&quot;false&quot;]{\n    --scroll-bg: #3c3c3c;\n    --scroll-fg: #97e1fb;\n}\nbody {\n    scrollbar-color: var(--scroll-fg) var(--scroll-bg);\n}\nbody::-webkit-scrollbar {\n    width: 10px; &sol;* Mostly for vertical scrollbars *&sol;\n    height: 10px; &sol;* Mostly for horizontal scrollbars *&sol;\n}\nbody::-webkit-scrollbar-thumb {\n    background-color: var(--scroll-fg);\n}\nbody::-webkit-scrollbar-track {\n    background-color: var(--scroll-bg);\n}\n            &lt;&sol;style&gt;\n        &lt;&sol;head&gt;\n        &lt;body&gt;\n            \n&lt;table class=&quot;dataframe&quot; id=&quot;df_1845493762&quot;&gt;&lt;&sol;table&gt;\n\n&lt;p class=&quot;dataframe_description&quot;&gt;DataFrame: rowsCount = 1, columnsCount = 2&lt;&sol;p&gt;\n\n        &lt;&sol;body&gt;\n        &lt;script&gt;\n            (function () {\n    window.DataFrame = window.DataFrame || new (function () {\n        this.addTable = function (df) {\n            let cols = df.cols;\n            for (let i = 0; i &lt; cols.length; i++) {\n                for (let c of cols[i].children) {\n                    cols[c].parent = i;\n                }\n            }\n            df.nrow = 0\n            for (let i = 0; i &lt; df.cols.length; i++) {\n                if (df.cols[i].values.length &gt; df.nrow) df.nrow = df.cols[i].values.length\n            }\n            if (df.id === df.rootId) {\n                df.expandedFrames = new Set()\n                df.childFrames = {}\n                const table = this.getTableElement(df.id)\n                table.df = df\n                for (let i = 0; i &lt; df.cols.length; i++) {\n                    let col = df.cols[i]\n                    if (col.parent === undefined &amp;&amp; col.children.length &gt; 0) col.expanded = true\n                }\n            } else {\n                const rootDf = this.getTableData(df.rootId)\n                rootDf.childFrames[df.id] = df\n            }\n        }\n\n        this.computeRenderData = function (df) {\n            let result = []\n            let pos = 0\n            for (let col = 0; col &lt; df.cols.length; col++) {\n                if (df.cols[col].parent === undefined)\n                    pos += this.computeRenderDataRec(df.cols, col, pos, 0, result, false, false)\n            }\n            for (let i = 0; i &lt; result.length; i++) {\n                let row = result[i]\n                for (let j = 0; j &lt; row.length; j++) {\n                    let cell = row[j]\n                    if (j === 0)\n                        cell.leftBd = false\n                    if (j &lt; row.length - 1) {\n                        let nextData = row[j + 1]\n                        if (nextData.leftBd) cell.rightBd = true\n                        else if (cell.rightBd) nextData.leftBd = true\n                    } else cell.rightBd = false\n                }\n            }\n            return result\n        }\n\n        this.computeRenderDataRec = function (cols, colId, pos, depth, result, leftBorder, rightBorder) {\n            if (result.length === depth) {\n                const array = [];\n                if (pos &gt; 0) {\n                    let j = 0\n                    for (let i = 0; j &lt; pos; i++) {\n                        let c = result[depth - 1][i]\n                        j += c.span\n                        let copy = Object.assign({empty: true}, c)\n                        array.push(copy)\n                    }\n                }\n                result.push(array)\n            }\n            const col = cols[colId];\n            let size = 0;\n            if (col.expanded) {\n                let childPos = pos\n                for (let i = 0; i &lt; col.children.length; i++) {\n                    let child = col.children[i]\n                    let childLeft = i === 0 &amp;&amp; (col.children.length &gt; 1 || leftBorder)\n                    let childRight = i === col.children.length - 1 &amp;&amp; (col.children.length &gt; 1 || rightBorder)\n                    let childSize = this.computeRenderDataRec(cols, child, childPos, depth + 1, result, childLeft, childRight)\n                    childPos += childSize\n                    size += childSize\n                }\n            } else {\n                for (let i = depth + 1; i &lt; result.length; i++)\n                    result[i].push({id: colId, span: 1, leftBd: leftBorder, rightBd: rightBorder, empty: true})\n                size = 1\n            }\n            let left = leftBorder\n            let right = rightBorder\n            if (size &gt; 1) {\n                left = true\n                right = true\n            }\n            result[depth].push({id: colId, span: size, leftBd: left, rightBd: right})\n            return size\n        }\n\n        this.getTableElement = function (id) {\n            return document.getElementById(&quot;df_&quot; + id)\n        }\n\n        this.getTableData = function (id) {\n            return this.getTableElement(id).df\n        }\n\n        this.createExpander = function (isExpanded) {\n            const svgNs = &quot;http:&sol;&sol;www.w3.org&sol;2000&sol;svg&quot;\n            let svg = document.createElementNS(svgNs, &quot;svg&quot;)\n            svg.classList.add(&quot;expanderSvg&quot;)\n            let path = document.createElementNS(svgNs, &quot;path&quot;)\n            if (isExpanded) {\n                svg.setAttribute(&quot;viewBox&quot;, &quot;0 -2 8 8&quot;)\n                path.setAttribute(&quot;d&quot;, &quot;M1 0 l-1 1 4 4 4 -4 -1 -1 -3 3Z&quot;)\n            } else {\n                svg.setAttribute(&quot;viewBox&quot;, &quot;-2 0 8 8&quot;)\n                path.setAttribute(&quot;d&quot;, &quot;M1 0 l-1 1 3 3 -3 3 1 1 4 -4Z&quot;)\n            }\n            path.setAttribute(&quot;fill&quot;, &quot;currentColor&quot;)\n            svg.appendChild(path)\n            return svg\n        }\n\n        this.renderTable = function (id) {\n\n            let table = this.getTableElement(id)\n\n            if (table === null) return\n\n            table.innerHTML = &quot;&quot;\n\n            let df = table.df\n            let rootDf = df.rootId === df.id ? df : this.getTableData(df.rootId)\n\n            &sol;&sol; header\n            let header = document.createElement(&quot;thead&quot;)\n            table.appendChild(header)\n\n            let renderData = this.computeRenderData(df)\n            for (let j = 0; j &lt; renderData.length; j++) {\n                let rowData = renderData[j]\n                let tr = document.createElement(&quot;tr&quot;);\n                let isLastRow = j === renderData.length - 1\n                header.appendChild(tr);\n                for (let i = 0; i &lt; rowData.length; i++) {\n                    let cell = rowData[i]\n                    let th = document.createElement(&quot;th&quot;);\n                    th.setAttribute(&quot;colspan&quot;, cell.span)\n                    let colId = cell.id\n                    let col = df.cols[colId];\n                    if (!cell.empty) {\n                        if (col.children.length === 0) {\n                            th.innerHTML = col.name\n                        } else {\n                            let link = document.createElement(&quot;a&quot;)\n                            link.className = &quot;expander&quot;\n                            let that = this\n                            link.onclick = function () {\n                                col.expanded = !col.expanded\n                                that.renderTable(id)\n                            }\n                            link.appendChild(this.createExpander(col.expanded))\n                            link.innerHTML += col.name\n                            th.appendChild(link)\n                        }\n                    }\n                    let classes = (cell.leftBd ? &quot; leftBorder&quot; : &quot;&quot;) + (cell.rightBd ? &quot; rightBorder&quot; : &quot;&quot;)\n                    if (col.rightAlign)\n                        classes += &quot; rightAlign&quot;\n                    if (isLastRow)\n                        classes += &quot; bottomBorder&quot;\n                    if (classes.length &gt; 0)\n                        th.setAttribute(&quot;class&quot;, classes)\n                    tr.appendChild(th)\n                }\n            }\n\n            &sol;&sol; body\n            let body = document.createElement(&quot;tbody&quot;)\n            table.appendChild(body)\n\n            let columns = renderData.pop()\n            for (let row = 0; row &lt; df.nrow; row++) {\n                let tr = document.createElement(&quot;tr&quot;);\n                body.appendChild(tr)\n                for (let i = 0; i &lt; columns.length; i++) {\n                    let cell = columns[i]\n                    let td = document.createElement(&quot;td&quot;);\n                    let colId = cell.id\n                    let col = df.cols[colId]\n                    let classes = (cell.leftBd ? &quot; leftBorder&quot; : &quot;&quot;) + (cell.rightBd ? &quot; rightBorder&quot; : &quot;&quot;)\n                    if (col.rightAlign)\n                        classes += &quot; rightAlign&quot;\n                    if (classes.length &gt; 0)\n                        td.setAttribute(&quot;class&quot;, classes)\n                    tr.appendChild(td)\n                    let value = col.values[row]\n                    if (value.frameId !== undefined) {\n                        let frameId = value.frameId\n                        let expanded = rootDf.expandedFrames.has(frameId)\n                        let link = document.createElement(&quot;a&quot;)\n                        link.className = &quot;expander&quot;\n                        let that = this\n                        link.onclick = function () {\n                            if (rootDf.expandedFrames.has(frameId))\n                                rootDf.expandedFrames.delete(frameId)\n                            else rootDf.expandedFrames.add(frameId)\n                            that.renderTable(id)\n                        }\n                        link.appendChild(this.createExpander(expanded))\n                        link.innerHTML += value.value\n                        if (expanded) {\n                            td.appendChild(link)\n                            td.appendChild(document.createElement(&quot;p&quot;))\n                            const childTable = document.createElement(&quot;table&quot;)\n                            childTable.className = &quot;dataframe&quot;\n                            childTable.id = &quot;df_&quot; + frameId\n                            let childDf = rootDf.childFrames[frameId]\n                            childTable.df = childDf\n                            td.appendChild(childTable)\n                            this.renderTable(frameId)\n                            if (childDf.nrow !== childDf.totalRows) {\n                                const footer = document.createElement(&quot;p&quot;)\n                                footer.innerText = `... showing only top ${childDf.nrow} of ${childDf.totalRows} rows`\n                                td.appendChild(footer)\n                            }\n                        } else {\n                            td.appendChild(link)\n                        }\n                    } else if (value.style !== undefined) {\n                        td.innerHTML = value.value\n                        td.setAttribute(&quot;style&quot;, value.style)\n                    } else td.innerHTML = value\n                    this.nodeScriptReplace(td)\n                }\n            }\n        }\n\n        this.nodeScriptReplace = function (node) {\n            if (this.nodeScriptIs(node) === true) {\n                node.parentNode.replaceChild(this.nodeScriptClone(node), node);\n            } else {\n                let i = -1, children = node.childNodes;\n                while (++i &lt; children.length) {\n                    this.nodeScriptReplace(children[i]);\n                }\n            }\n\n            return node;\n        }\n\n        this.nodeScriptClone = function (node) {\n            let script = document.createElement(&quot;script&quot;);\n            script.text = node.innerHTML;\n\n            let i = -1, attrs = node.attributes, attr;\n            while (++i &lt; attrs.length) {\n                script.setAttribute((attr = attrs[i]).name, attr.value);\n            }\n            return script;\n        }\n\n        this.nodeScriptIs = function (node) {\n            return node.tagName === 'SCRIPT';\n        }\n    })()\n\n    window.call_DataFrame = function (f) {\n        return f();\n    };\n\n    let funQueue = window[&quot;kotlinQueues&quot;] &amp;&amp; window[&quot;kotlinQueues&quot;][&quot;DataFrame&quot;];\n    if (funQueue) {\n        funQueue.forEach(function (f) {\n            f();\n        });\n        funQueue = [];\n    }\n})()\n\n&sol;*&lt;!--*&sol;\ncall_DataFrame(function() { DataFrame.addTable({ cols: [{ name: &quot;&lt;span title=&bsol;&quot;firstName: String&bsol;&quot;&gt;firstName&lt;&sol;span&gt;&quot;, children: [], rightAlign: false, values: [&quot;Bob&quot;] }, \n{ name: &quot;&lt;span title=&bsol;&quot;lastName: String&bsol;&quot;&gt;lastName&lt;&sol;span&gt;&quot;, children: [], rightAlign: false, values: [&quot;Brown&quot;] }, \n], id: 1845493762, rootId: 1845493762, totalRows: 1 } ) });\n&sol;*--&gt;*&sol;\n\ncall_DataFrame(function() { DataFrame.renderTable(1845493762) });\n\n\n\n        &lt;&sol;script&gt;\n        &lt;&sol;html&gt;\"></iframe>\n            <script>\n                function o_resize_iframe_out_3() {\n                    let elem = document.getElementById(\"iframe_out_3\");\n                    resize_iframe_out_3(elem);\n                    setInterval(resize_iframe_out_3, 5000, elem);\n                }\n                function resize_iframe_out_3(el) {\n                    let h = el.contentWindow.document.body.scrollHeight;\n                    el.height = h === 0 ? 0 : h + 41;\n                }\n            </script>",
      "application/kotlindataframe+json": "{\"nrow\":1,\"ncol\":2,\"columns\":[\"firstName\",\"lastName\"],\"kotlin_dataframe\":[{\"firstName\":\"Bob\",\"lastName\":\"Brown\"}]}"
     },
     "metadata": {},
     "output_type": "display_data"
    },
    {
     "data": {
      "text/plain": "class Line_26_jupyter$User"
     },
     "metadata": {},
     "output_type": "display_data"
    }
   ],
   "source": [
    "DISPLAY(bob)\n",
    "DISPLAY(bob::class.java)"
   ],
   "metadata": {
    "collapsed": false,
    "ExecuteTime": {
     "end_time": "2023-09-20T08:09:19.872903Z",
     "start_time": "2023-09-20T08:09:19.819053100Z"
    }
   }
  },
  {
   "cell_type": "markdown",
   "source": [
    "也可以自定义渲染器"
   ],
   "metadata": {
    "collapsed": false
   }
  },
  {
   "cell_type": "code",
   "execution_count": 22,
   "outputs": [],
   "source": [
    "class User2(val name: String)"
   ],
   "metadata": {
    "collapsed": false,
    "ExecuteTime": {
     "end_time": "2023-09-20T08:11:29.604890300Z",
     "start_time": "2023-09-20T08:11:29.563401800Z"
    }
   }
  },
  {
   "cell_type": "code",
   "execution_count": 36,
   "outputs": [],
   "source": [
    "USE {\n",
    "    addRenderer(object : RendererHandler {\n",
    "        override val execution: ResultHandlerExecution\n",
    "            get() = ResultHandlerExecution { host, res ->\n",
    "                FieldValue(\"$host Value of ${res.name} is a user with name ${(res.value as User2).name}\", null)\n",
    "            }\n",
    "\n",
    "        override fun accepts(value: Any?): Boolean {\n",
    "            return value != null && value::class == User2::class\n",
    "        }\n",
    "\n",
    "        override fun replaceVariables(mapping: Map<String, String>): RendererHandler {\n",
    "            return this\n",
    "        }\n",
    "\n",
    "    })\n",
    "}"
   ],
   "metadata": {
    "collapsed": false,
    "ExecuteTime": {
     "end_time": "2023-09-20T08:14:36.592044800Z",
     "start_time": "2023-09-20T08:14:36.484059300Z"
    }
   }
  },
  {
   "cell_type": "code",
   "execution_count": 37,
   "outputs": [
    {
     "data": {
      "text/plain": "org.jetbrains.kotlinx.jupyter.repl.impl.CellExecutorImpl@5b326589 Value of res46 is a user with name Felix"
     },
     "execution_count": 37,
     "metadata": {},
     "output_type": "execute_result"
    }
   ],
   "source": [
    "User2(\"Felix\")"
   ],
   "metadata": {
    "collapsed": false,
    "ExecuteTime": {
     "end_time": "2023-09-20T08:14:37.150160600Z",
     "start_time": "2023-09-20T08:14:37.069112Z"
    }
   }
  },
  {
   "cell_type": "code",
   "execution_count": 38,
   "outputs": [],
   "source": [
    "fun loadFileFromGitHub(repositoryUrl: String, filePath: String): String {\n",
    "    val rawUrl = \"$repositoryUrl/raw/master/$filePath\"\n",
    "    val url = URL(rawUrl)\n",
    "    val connection = url.openConnection()\n",
    "    connection.setRequestProperty(\"Accept\", \"application/vnd.github.v3.raw\")\n",
    "\n",
    "    val inputStream = connection.getInputStream()\n",
    "    val content = inputStream.bufferedReader().use { it.readText() }\n",
    "\n",
    "    return content\n",
    "}"
   ],
   "metadata": {
    "collapsed": false,
    "ExecuteTime": {
     "end_time": "2023-09-20T08:34:44.907586500Z",
     "start_time": "2023-09-20T08:34:44.755686500Z"
    }
   }
  },
  {
   "cell_type": "code",
   "execution_count": 44,
   "outputs": [],
   "source": [
    "fun loadDescriptor(name: String) {\n",
    "    val text = loadFileFromGitHub(\"https://github.com/Kotlin/kotlin-jupyter-libraries\", \"$name.json\")\n",
    "    DISPLAY(MIME(\n",
    "        \"text/markdown\" to \"```json\\n$text```\"\n",
    "    ))\n",
    "}"
   ],
   "metadata": {
    "collapsed": false,
    "ExecuteTime": {
     "end_time": "2023-09-20T08:37:09.231619Z",
     "start_time": "2023-09-20T08:37:09.175012900Z"
    }
   }
  },
  {
   "cell_type": "code",
   "execution_count": 45,
   "outputs": [
    {
     "data": {
      "text/markdown": "```json\n{\n  \"link\": \"https://github.com/breandan/kaliningraph\",\n  \"description\": \"Graph library with a DSL for constructing graphs and visualizing the behavior of graph algorithms\",\n  \"dependencies\": [\n    \"com.github.breandan:kaliningraph:0.1.4\"\n  ],\n  \"imports\": [\n    \"edu.mcgill.kaliningraph.*\",\n    \"edu.mcgill.kaliningraph.matrix.*\",\n    \"edu.mcgill.kaliningraph.circuits.*\",\n    \"org.ejml.data.*\",\n    \"org.ejml.kotlin.*\"\n  ],\n  \"renderers\": {\n    \"edu.mcgill.kaliningraph.LabeledGraph\": \"HTML(($it as edu.mcgill.kaliningraph.Graph<*, *, *>).html())\",\n    \"edu.mcgill.kaliningraph.circuits.Gate\": \"HTML(($it as edu.mcgill.kaliningraph.circuits.Gate).graph.html())\",\n    \"edu.mcgill.kaliningraph.circuits.NFunction\": \"HTML(($it as edu.mcgill.kaliningraph.circuits.NFunction).graph.html())\",\n    \"edu.mcgill.kaliningraph.circuits.ComputationGraph\": \"HTML(($it as edu.mcgill.kaliningraph.Graph<*, *, *>).html())\",\n    \"edu.mcgill.kaliningraph.matrix.BMat\": \"HTML(\\\"<img src=\\\\\\\"${($it as edu.mcgill.kaliningraph.matrix.BMat).matToImg()}\\\\\\\"/>\\\")\",\n    \"edu.mcgill.kaliningraph.matrix.BSqMat\": \"HTML(\\\"<img src=\\\\\\\"${($it as edu.mcgill.kaliningraph.matrix.BSqMat).matToImg()}\\\\\\\"/>\\\")\"\n  }\n}\n```"
     },
     "metadata": {},
     "output_type": "display_data"
    }
   ],
   "source": [
    "loadDescriptor(\"kaliningraph\")"
   ],
   "metadata": {
    "collapsed": false,
    "ExecuteTime": {
     "end_time": "2023-09-20T08:37:11.239571600Z",
     "start_time": "2023-09-20T08:37:09.529381300Z"
    }
   }
  },
  {
   "cell_type": "code",
   "execution_count": null,
   "outputs": [],
   "source": [],
   "metadata": {
    "collapsed": false
   }
  }
 ],
 "metadata": {
  "kernelspec": {
   "display_name": "Kotlin",
   "language": "kotlin",
   "name": "kotlin"
  },
  "language_info": {
   "name": "kotlin",
   "version": "1.8.20",
   "mimetype": "text/x-kotlin",
   "file_extension": ".kt",
   "pygments_lexer": "kotlin",
   "codemirror_mode": "text/x-kotlin",
   "nbconvert_exporter": ""
  },
  "ktnbPluginMetadata": {
   "isAddProjectLibrariesToClasspath": false
  }
 },
 "nbformat": 4,
 "nbformat_minor": 0
}
