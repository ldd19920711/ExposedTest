{
 "cells": [
  {
   "cell_type": "markdown",
   "source": [
    "使用 kotlinx.serialization 作为示例."
   ],
   "metadata": {
    "collapsed": false
   }
  },
  {
   "cell_type": "code",
   "execution_count": 1,
   "outputs": [],
   "source": [
    "%use serialization"
   ],
   "metadata": {
    "collapsed": false,
    "ExecuteTime": {
     "end_time": "2023-09-20T07:48:46.160757900Z",
     "start_time": "2023-09-20T07:48:45.650097400Z"
    }
   }
  },
  {
   "cell_type": "markdown",
   "source": [
    "可以用它来序列化和反序列化class"
   ],
   "metadata": {
    "collapsed": false
   }
  },
  {
   "cell_type": "code",
   "execution_count": 2,
   "outputs": [],
   "source": [
    "import kotlinx.serialization.Serializable\n",
    "\n",
    "@Serializable\n",
    "class User(val firstName: String, val lastName: String)"
   ],
   "metadata": {
    "collapsed": false,
    "ExecuteTime": {
     "end_time": "2023-09-20T07:50:40.625268100Z",
     "start_time": "2023-09-20T07:50:40.238203900Z"
    }
   }
  },
  {
   "cell_type": "code",
   "execution_count": 5,
   "outputs": [],
   "source": [
    "val bob = User(\"Alex\", \"Green\")"
   ],
   "metadata": {
    "collapsed": false,
    "ExecuteTime": {
     "end_time": "2023-09-20T07:51:15.214443800Z",
     "start_time": "2023-09-20T07:51:15.162630900Z"
    }
   }
  },
  {
   "cell_type": "code",
   "execution_count": 10,
   "outputs": [],
   "source": [
    "val jsonEngine = Json { prettyPrint = true }"
   ],
   "metadata": {
    "collapsed": false,
    "ExecuteTime": {
     "end_time": "2023-09-20T07:51:45.390373300Z",
     "start_time": "2023-09-20T07:51:45.326566Z"
    }
   }
  },
  {
   "cell_type": "code",
   "execution_count": 12,
   "outputs": [
    {
     "data": {
      "text/plain": "{\n    \"firstName\": \"Alex\",\n    \"lastName\": \"Green\"\n}"
     },
     "execution_count": 12,
     "metadata": {},
     "output_type": "execute_result"
    }
   ],
   "source": [
    "val userStr = jsonEngine.encodeToString(bob)\n",
    "userStr"
   ],
   "metadata": {
    "collapsed": false,
    "ExecuteTime": {
     "end_time": "2023-09-20T07:55:32.460019200Z",
     "start_time": "2023-09-20T07:55:32.394450500Z"
    }
   }
  },
  {
   "cell_type": "code",
   "execution_count": 15,
   "outputs": [
    {
     "data": {
      "text/plain": "firstName=Alex,lastName=Green"
     },
     "execution_count": 15,
     "metadata": {},
     "output_type": "execute_result"
    }
   ],
   "source": [
    "val user = jsonEngine.decodeFromString<User>(userStr)\n",
    "\"firstName=${user.firstName},lastName=${user.lastName}\""
   ],
   "metadata": {
    "collapsed": false,
    "ExecuteTime": {
     "end_time": "2023-09-20T07:56:13.712415600Z",
     "start_time": "2023-09-20T07:56:13.635982400Z"
    }
   }
  }
 ],
 "metadata": {
  "kernelspec": {
   "display_name": "Kotlin",
   "language": "kotlin",
   "name": "kotlin"
  },
  "language_info": {
   "name": "kotlin",
   "version": "1.8.20",
   "mimetype": "text/x-kotlin",
   "file_extension": ".kt",
   "pygments_lexer": "kotlin",
   "codemirror_mode": "text/x-kotlin",
   "nbconvert_exporter": ""
  },
  "ktnbPluginMetadata": {
   "isAddProjectLibrariesToClasspath": false
  }
 },
 "nbformat": 4,
 "nbformat_minor": 0
}
