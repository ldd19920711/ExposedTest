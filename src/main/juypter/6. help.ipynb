{
 "cells": [
  {
   "cell_type": "markdown",
   "source": [
    "我们提供的最简单的选项是使用预定义的库描述符，您可以使用 `:help` 命令或[此处](https://github.com/Kotlin/kotlin-jupyter#list-of-supported-libraries 找到可用的库描述符 ）."
   ],
   "metadata": {
    "collapsed": false
   }
  },
  {
   "cell_type": "code",
   "execution_count": 1,
   "outputs": [
    {
     "data": {
      "text/plain": "Kotlin Jupyter kernel.\nKernel version: 0.11.0.381\nKotlin version: 1.8.20\nJVM version: 17\n\nCommands:\n    :help - display help\n    :classpath - show current classpath\n    :vars - get visible variables values\n\nMagics:\n    %use - injects code for supported libraries: artifact resolution, default imports, initialization code, type renderers\n        Usage: %use klaxon(5.5), lets-plot\n    %trackClasspath - logs any changes of current classpath. Useful for debugging artifact resolution failures\n        Usage: %trackClasspath [on|off]\n    %trackExecution - logs pieces of code that are going to be executed. Useful for debugging of libraries support\n        Usage: %trackExecution [all|generated|off]\n    %useLatestDescriptors - use latest versions of library descriptors available. By default, bundled descriptors are used. Note that default behavior is preferred: latest descriptors versions might be not supported by current version of kernel. So if you care about stability of the notebook, avoid using this line magic\n        Usage: %useLatestDescriptors [on|off]\n    %output - output capturing settings\n        Usage: %output --max-cell-size=1000 --no-stdout --max-time=100 --max-buffer=400\n    %logLevel - set logging level\n        Usage: %logLevel [off|error|warn|info|debug]\n\nSupported libraries:\n    kravis (https://github.com/holgerbrandl/kravis) - Kotlin grammar for data visualization\n    plotly (https://github.com/mipt-npm/plotly.kt) - [beta] Plotly.kt jupyter integration for static plots.\n    exposed (https://github.com/JetBrains/Exposed) - Kotlin SQL framework\n    lets-plot-gt (https://github.com/JetBrains/lets-plot-kotlin) - Lets-Plot visualisation for GeoTools toolkit\n    deeplearning4j (https://github.com/eclipse/deeplearning4j) - Deep learning library for the JVM\n    kraphviz (https://github.com/nidi3/graphviz-java) - Graphviz wrapper for JVM\n    serialization (https://github.com/Kotlin/kotlinx.serialization) - Kotlin multi-format reflection-less serialization\n    krangl (https://github.com/holgerbrandl/krangl) - Kotlin DSL for data wrangling\n    roboquant (https://roboquant.org) - Algorithmic trading platform written in Kotlin\n    kmath (https://github.com/mipt-npm/kmath) - Experimental Kotlin algebra-based mathematical library\n    gral (https://github.com/eseifert/gral) - Java library for displaying plots\n    webtau (https://github.com/testingisdocumenting/webtau) - WebTau end-to-end testing across layers\n    deeplearning4j-cuda (https://github.com/eclipse/deeplearning4j) - Deep learning library for the JVM (CUDA support)\n    gradle-enterprise-api-kotlin (https://github.com/gabrielfeo/gradle-enterprise-api-kotlin) - A library to use the Gradle Enterprise API in Kotlin scripts or projects\n    coroutines (https://github.com/Kotlin/kotlinx.coroutines) - Asynchronous programming and reactive streams support\n    mysql (https://github.com/mysql/mysql-connector-j) - MySql JDBC Connector\n    lets-plot-dataframe (https://github.com/JetBrains/lets-plot-kotlin) - A bridge between Lets-Plot and dataframe libraries\n    multik (https://github.com/Kotlin/multik) - Multidimensional array library for Kotlin\n    reflection (https://kotlinlang.org/docs/reflection.html) - Imports for Kotlin Reflection\n    smile (https://github.com/haifengl/smile) - Statistical Machine Intelligence and Learning Engine\n    kandy-echarts (https://github.com/Kotlin/kandy) - Kotlin plotting DSL for Apache ECharts\n    spark-streaming (https://github.com/JetBrains/kotlin-spark-api) - Kotlin API for Apache Spark Streaming: scalable, high-throughput, fault-tolerant stream processing of live data streams\n    rdkit (https://www.rdkit.org/) - Open-Source Cheminformatics Software\n    combinatoricskt (https://github.com/shiguruikai/combinatoricskt) - A combinatorics library for Kotlin\n    lib-ext (https://github.com/Kotlin/kotlin-jupyter) - Extended functionality for Jupyter kernel\n    khttp (https://github.com/jkcclemens/khttp) - HTTP networking library\n    plotly-server (https://github.com/mipt-npm/plotly.kt) - [beta] Plotly.kt jupyter integration for dynamic plots.\n    londogard-nlp-toolkit (https://github.com/londogard/londogard-nlp-toolkit) - A Natural Language Processing (NLP) toolkit for Kotlin on the JVM\n    lets-plot (https://github.com/JetBrains/lets-plot-kotlin) - ggplot-like interactive visualization for Kotlin\n    openai (https://openai.com/blog/chatgpt) - OpenAI API for Jupyter Notebooks\n    fuel (https://github.com/kittinunf/fuel) - HTTP networking library\n    kalasim (https://www.kalasim.org) - Discrete event simulator\n    kaliningraph (https://github.com/breandan/kaliningraph) - Graph library with a DSL for constructing graphs and visualizing the behavior of graph algorithms\n    kandy (https://github.com/Kotlin/kandy) - Kotlin plotting DSL for Lets-Plot\n    kotlin-dl (https://github.com/Kotlin/kotlindl) - KotlinDL library which provides Keras-like API for deep learning\n    kotlin-statistics (https://github.com/thomasnield/kotlin-statistics) - Idiomatic statistical operators for Kotlin\n    jdsp (https://github.com/psambit9791/jDSP) - Java library for signal processing\n    default - Default imports: dataframe and Lets-Plot libraries\n    dataframe (https://github.com/Kotlin/dataframe) - Kotlin framework for structured data processing\n    biokotlin (https://bitbucket.org/bucklerlab/biokotlin) - BioKotlin aims to be a high-performance bioinformatics library that brings the power and speed of compiled programming languages to scripting and big data environments.\n    klaxon (https://github.com/cbeust/klaxon) - JSON parser for Kotlin\n    datetime (https://github.com/Kotlin/kotlinx-datetime) - Kotlin date/time library\n    spark (https://github.com/JetBrains/kotlin-spark-api) - Kotlin API for Apache Spark: unified analytics engine for large-scale data processing"
     },
     "execution_count": 1,
     "metadata": {},
     "output_type": "execute_result"
    }
   ],
   "source": [
    ":help"
   ],
   "metadata": {
    "collapsed": false,
    "ExecuteTime": {
     "end_time": "2023-09-20T07:47:12.160421900Z",
     "start_time": "2023-09-20T07:47:12.106149500Z"
    }
   }
  },
  {
   "cell_type": "code",
   "execution_count": 2,
   "outputs": [
    {
     "data": {
      "text/html": "<style>\ntable.variables_table, .variables_table th, .variables_table td {\n  border: 1px solid black;\n  border-collapse: collapse;\n  text-align:center;\n}\n.variables_table th, .variables_table td {\n  padding: 5px;\n}\n</style>\n<h2 style=\"text-align:center;\">Variables State's Empty</h2>\n"
     },
     "execution_count": 2,
     "metadata": {},
     "output_type": "execute_result"
    }
   ],
   "source": [
    ":vars"
   ],
   "metadata": {
    "collapsed": false,
    "ExecuteTime": {
     "end_time": "2023-09-20T07:47:29.952118800Z",
     "start_time": "2023-09-20T07:47:29.930475200Z"
    }
   }
  },
  {
   "cell_type": "code",
   "execution_count": null,
   "outputs": [],
   "source": [],
   "metadata": {
    "collapsed": false
   }
  }
 ],
 "metadata": {
  "kernelspec": {
   "display_name": "Kotlin",
   "language": "kotlin",
   "name": "kotlin"
  },
  "language_info": {
   "name": "kotlin",
   "version": "1.8.20",
   "mimetype": "text/x-kotlin",
   "file_extension": ".kt",
   "pygments_lexer": "kotlin",
   "codemirror_mode": "text/x-kotlin",
   "nbconvert_exporter": ""
  },
  "ktnbPluginMetadata": {
   "isAddProjectLibrariesToClasspath": false
  }
 },
 "nbformat": 4,
 "nbformat_minor": 0
}
