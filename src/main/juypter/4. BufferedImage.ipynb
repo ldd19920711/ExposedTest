{
 "cells": [
  {
   "cell_type": "raw",
   "source": [
    "BufferedImage 使用"
   ],
   "metadata": {
    "collapsed": false
   }
  },
  {
   "cell_type": "code",
   "execution_count": 1,
   "outputs": [],
   "source": [
    "%use lib-ext(0.11.0-398)"
   ],
   "metadata": {
    "collapsed": false,
    "ExecuteTime": {
     "end_time": "2023-09-20T07:31:52.146765600Z",
     "start_time": "2023-09-20T07:31:47.404872400Z"
    }
   }
  },
  {
   "cell_type": "code",
   "execution_count": 18,
   "outputs": [
    {
     "data": {
      "image/png": "[encoded data removed]",
      "text/plain": "class java.awt.image.BufferedImage: 250x250 px"
     },
     "execution_count": 18,
     "metadata": {},
     "output_type": "execute_result"
    }
   ],
   "source": [
    "import java.awt.Color\n",
    "import java.awt.image.BufferedImage\n",
    "\n",
    "val width = 250\n",
    "val height = width\n",
    "\n",
    "val image = BufferedImage(width, height, BufferedImage.TYPE_INT_ARGB)\n",
    "\n",
    "val graphics = image.createGraphics()\n",
    "graphics.background = Color.DARK_GRAY\n",
    "graphics.clearRect(0, 0, width, height)\n",
    "graphics.setRenderingHint(\n",
    "    java.awt.RenderingHints.KEY_ANTIALIASING,\n",
    "    java.awt.RenderingHints.VALUE_ANTIALIAS_ON\n",
    ")\n",
    "graphics.color = Color.WHITE\n",
    "graphics.fillRect(width / 4, height / 2, width * 10 / 20, height / 10)\n",
    "graphics.dispose()\n",
    "\n",
    "image"
   ],
   "metadata": {
    "collapsed": false,
    "ExecuteTime": {
     "end_time": "2023-09-20T07:35:45.354835100Z",
     "start_time": "2023-09-20T07:35:45.250218900Z"
    }
   }
  },
  {
   "cell_type": "code",
   "execution_count": null,
   "outputs": [],
   "source": [],
   "metadata": {
    "collapsed": false
   }
  }
 ],
 "metadata": {
  "kernelspec": {
   "display_name": "Kotlin",
   "language": "kotlin",
   "name": "kotlin"
  },
  "language_info": {
   "name": "kotlin",
   "version": "1.8.20",
   "mimetype": "text/x-kotlin",
   "file_extension": ".kt",
   "pygments_lexer": "kotlin",
   "codemirror_mode": "text/x-kotlin",
   "nbconvert_exporter": ""
  },
  "ktnbPluginMetadata": {
   "isAddProjectLibrariesToClasspath": false
  }
 },
 "nbformat": 4,
 "nbformat_minor": 0
}
