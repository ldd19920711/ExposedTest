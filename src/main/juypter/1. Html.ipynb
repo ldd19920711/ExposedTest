{
 "cells": [
  {
   "cell_type": "raw",
   "source": [
    "输出可能不仅仅是纯文本.它们也可以是图像和HTML.HTML可以包含CSS和JavaScript."
   ],
   "metadata": {
    "collapsed": false
   }
  },
  {
   "cell_type": "code",
   "execution_count": 5,
   "outputs": [
    {
     "data": {
      "text/html": "\n    <p>Counter: <span id=\"ctr\">0</span> <button onclick=\"inc()\">Increment</button></p>\n    <script>\n      function inc() {\n        let counter = document.getElementById(\"ctr\")\n        counter.innerHTML = parseInt(counter.innerHTML) + 1;\n      }\n    </script>\n"
     },
     "execution_count": 5,
     "metadata": {},
     "output_type": "execute_result"
    }
   ],
   "source": [
    "HTML(\n",
    "    \"\"\"\n",
    "    <p>Counter: <span id=\"ctr\">0</span> <button onclick=\"inc()\">Increment</button></p>\n",
    "    <script>\n",
    "      function inc() {\n",
    "        let counter = document.getElementById(\"ctr\")\n",
    "        counter.innerHTML = parseInt(counter.innerHTML) + 1;\n",
    "      }\n",
    "    </script>\n",
    "\"\"\"\n",
    ")"
   ],
   "metadata": {
    "collapsed": false,
    "ExecuteTime": {
     "end_time": "2023-09-20T07:20:10.879747200Z",
     "start_time": "2023-09-20T07:20:10.811277500Z"
    }
   }
  },
  {
   "cell_type": "raw",
   "source": [
    "Out 4 这个按钮是可以互动的."
   ],
   "metadata": {
    "collapsed": false
   }
  },
  {
   "cell_type": "markdown",
   "source": [
    "**NB!** 如果你的输出包含 JS, notebook 必须标记为 trusted.\n",
    "![trusted-notebook](screenshots/screenshot3.png)"
   ],
   "metadata": {
    "collapsed": false
   }
  }
 ],
 "metadata": {
  "kernelspec": {
   "display_name": "Kotlin",
   "language": "kotlin",
   "name": "kotlin"
  },
  "language_info": {
   "name": "kotlin",
   "version": "1.8.20",
   "mimetype": "text/x-kotlin",
   "file_extension": ".kt",
   "pygments_lexer": "kotlin",
   "codemirror_mode": "text/x-kotlin",
   "nbconvert_exporter": ""
  },
  "ktnbPluginMetadata": {
   "isAddProjectLibrariesToClasspath": false
  }
 },
 "nbformat": 4,
 "nbformat_minor": 0
}
